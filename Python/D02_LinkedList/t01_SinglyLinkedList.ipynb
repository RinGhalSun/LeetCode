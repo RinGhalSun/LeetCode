{
 "cells": [
  {
   "cell_type": "markdown",
   "id": "7552766a",
   "metadata": {},
   "source": [
    "# Introduction - Singly Linked List\n",
    "Each node in a singly-linked list contains not only the value but also `a reference field` to link to the next node. By this way, the singly-linked list organizes all nodes in a sequence.\n",
    "\n",
    "<img src=\"https://s3-lc-upload.s3.amazonaws.com/uploads/2018/04/12/screen-shot-2018-04-12-at-152754.png\" style=\"height:80px\">\n",
    "\n",
    "In most cases, we will use the `head` node (the first node) to represent the whole list."
   ]
  },
  {
   "cell_type": "markdown",
   "id": "c10c273e",
   "metadata": {},
   "source": [
    "# Operation\n",
    "unlike the array, we are note able to access a random element in a singly-linked list in constant time (常数时间). If we want to get the ith element, we have to traverse from the head node one by one. It takes us `O(N)` time on average to `visit an element by index`, where *N* is the lenght of the linked list.\n",
    "\n",
    "For instance, in the example above, the head is the node 23. The only way to visit the 3rd node is use the \"next\" field of the head node to get to the 2nd node (node 6); then with the \"next\" field of node 6, we are able to visit the 3rd node.\n",
    "\n",
    "You might wonder why the linked list is useful though it has such a bad performance (compared to the array) in accessing data by index. We will introduce the `insert` and `delete` operations in next two parts."
   ]
  },
  {
   "cell_type": "markdown",
   "id": "12fd8358",
   "metadata": {},
   "source": [
    "# Add Operation - Singly Linked List\n",
    "If we want to add a new value after a given node `prev`, we should:\n",
    "\n",
    "1. Initialize a new node `cur` with the given value;\n",
    "\n",
    "<img src=\"https://s3-lc-upload.s3.amazonaws.com/uploads/2018/04/26/screen-shot-2018-04-25-at-163224.png\" style = \"height:160px\">\n",
    "\n",
    "2. Lin the \"next\" field of `cur` to prev's next node `next`;\n",
    "\n",
    "<img src=\"https://s3-lc-upload.s3.amazonaws.com/uploads/2018/04/26/screen-shot-2018-04-25-at-163234.png\" style = \"height:160px\">\n",
    "\n",
    "3. Link the \"next\" field in `prev` to `cur`.\n",
    "\n",
    "<img src=\"https://s3-lc-upload.s3.amazonaws.com/uploads/2018/04/26/screen-shot-2018-04-25-at-163243.png\" style = \"height:160px\">\n",
    "\n",
    "Unlike an array, we don't need to move all elements past the inserted element. Therefore, you can insert a new node into a linked list in `O(1)` time complexity, which is very efficient."
   ]
  },
  {
   "cell_type": "markdown",
   "id": "12512fb0",
   "metadata": {},
   "source": [
    "### An Example\n",
    "<img src=\"https://s3-lc-upload.s3.amazonaws.com/uploads/2018/04/12/screen-shot-2018-04-12-at-152754.png\" style=\"height:60px\">\n",
    "\n",
    "Let's insert a new value 9 after the second node 6.\n",
    "\n",
    "We will first initialize a new node with value 9. Then link node 9 to node 15. Finally, link node 6 to node 9.\n",
    "\n",
    "After insertion, our linked list will look like this:\n",
    "\n",
    "<img src=\"https://s3-lc-upload.s3.amazonaws.com/uploads/2018/04/12/screen-shot-2018-04-12-at-154238.png\" style=\"height:120px\">\n",
    "\n",
    "### Add a Node at the Beggining\n",
    "As we know, we use the head node `head` to represent the whole list.\n",
    "\n",
    "So it is essential to update `head` when adding a new node at the beginning of the list.\n",
    "\n",
    "1. Initialize a new node `cur`;\n",
    "2. Link the new node to our original head node `head`.\n",
    "3. Assign `cur` to `head`.\n",
    "\n",
    "For example, let's add a new node 9 at the beginning of the list.\n",
    "\n",
    "1. We initialize a new node 9 and link node 9 to current head node 23.\n",
    "<img src=\"https://s3-lc-upload.s3.amazonaws.com/uploads/2018/04/19/screen-shot-2018-04-19-at-125118.png\" style=\"height:80px\">\n",
    "\n",
    "2. Assign node 9 to be our new head.\n",
    "<img src=\"https://s3-lc-upload.s3.amazonaws.com/uploads/2018/04/19/screen-shot-2018-04-19-at-125350.png\" style=\"height:80px\">"
   ]
  },
  {
   "cell_type": "markdown",
   "id": "a7a60596",
   "metadata": {},
   "source": [
    "# Delete Operation - Singly Linked List\n",
    "If we want to delete an existing node `cur` from the singly linked list, we can do it in two steps:\n",
    "\n",
    "1. Find cur's previous node `prev` and its next node `next`;\n",
    "<img src=\"https://s3-lc-upload.s3.amazonaws.com/uploads/2018/04/27/screen-shot-2018-04-26-at-203558.png\" style=\"height:80px\">\n",
    "2. Link `prev` to cur's next node `next`.\n",
    "<img src=\"https://s3-lc-upload.s3.amazonaws.com/uploads/2018/04/26/screen-shot-2018-04-26-at-203640.png\" style=\"height:100px\">\n",
    "\n",
    "In our first step, we need to find out `prev` and `next`. It is easy to find out `next` using the reference field of `cur`. However, we have to traverse the linked list from the head node to find out `prev` which will take `O(N)` time on average, where N is the length of the linked list. So the time complexity of deleting a node will be `O(N)`.\n",
    "\n",
    "The space complexity is `O(1)` because we only need constant space to store our pointer.\n",
    "\n",
    "### Deleting the First Node\n",
    "If we want to delete the first node, the strategy will be a little different.\n",
    "\n",
    "As we mentioned before, we use the head node `head` to represent a linked list. Our head is the black node 23 in the example below.\n",
    "<img src=\"https://s3-lc-upload.s3.amazonaws.com/uploads/2018/04/19/screen-shot-2018-04-19-at-130024.png\" style=\"height:80px\">\n",
    "\n",
    "If we want to delete the first node, we can simply `assign the next node to head`. That is to say, our head will be node 6 after deletion.\n",
    "<img src=\"https://s3-lc-upload.s3.amazonaws.com/uploads/2018/04/19/screen-shot-2018-04-19-at-130031.png\" style=\"height:80px\">\n",
    "\n",
    "The linked list begins at the head node, so node 23 is no longer in our linked list."
   ]
  },
  {
   "cell_type": "markdown",
   "id": "8faaaf1d",
   "metadata": {},
   "source": [
    "_________________________________________________________________________\n",
    "_________________________________________________________________________"
   ]
  },
  {
   "cell_type": "markdown",
   "id": "9a175687",
   "metadata": {},
   "source": [
    "# Code: Design Linked List\n",
    "Design your implementation of the linked list. You can choose to use a singly or doubly linked list.\n",
    "\n",
    "A node in a singly linked list should have two attributes: `val` and `next`. `val` is the value of the current node, and `next` is a pointer/reference to the next node.\n",
    "\n",
    "Implement the `MyLinkedList` class:\n",
    "1. `MyLinkedList()` Initializes the `MyLinkedList` object.\n",
    "2. `int get(int index)` Get the value of the $index^{th}$ node in the linked list. If the index is invalid, return `-1`.\n",
    "3. `void addAtHead(int val)` Add a node of value `val` before the first element of the linked list. After the insertion, the new node will be the first node of the linked list.\n",
    "4. `void addAtTail(int val)` Append a node of value `val` as the last element of the linked list.\n",
    "5. `void addAtIndex(int index, int val)` Add a node of value `val` before the $index^{th}$ node in the linked list. If `index` equals the length of the linked list, the node will be appended to the end of the linked list. If `index` is greater than the length, the node **will not be inserted**.\n",
    "6. `void deleteAtIndex(int index)` Delete the $index^{th}$ node in the linked list, if the index is valid.\n"
   ]
  },
  {
   "cell_type": "markdown",
   "id": "146dc446",
   "metadata": {},
   "source": [
    "## Interview Strategy\n",
    "Linked List is a data structure with zero or several elements. Each element contains a value and link(s) to other element(s). Depending on the number of links, that could be singly linked list, doubly linked list and multiply linked list.\n",
    "\n",
    "Singly linked list is the simplest one, it provides `addAtHead` in a constant time, and `addAtTail` in a linear time. Though doubly linked list is the most used one, because it provides both `addAtHead` and `addAtTail` in a constant time, and optimises the insert and delete operations.\n",
    "\n",
    "Doubly linked list is implemented in Java as LinkedList. Since these structure are quite well-known, a good interview strategy would be to mention them during the discussion but not ti base the code on them. Better to use the limited interview time to work with two ideas:\n",
    "\n",
    "* Sentinel nodes 前哨node\n",
    "> Sentinel nodes are widely used in the trees and linked lists as *pseudo-heads, pseudo-tails, etc*. They serve as the guardians, as the name suggests, and usually they do not hold any data.\n",
    "\n",
    "Sentinels nodes will be used here to simplify insert and delete. We would apply this in both of the following approaches.\n",
    "\n",
    "* Bidirectional search for doubly-linked list\n",
    "\n",
    "Rather than starting from the head, we could search the node in a doubly-linked list from both head and tail.\n",
    "\n",
    "If you are familiar with the concepts, you can start directly from the Approach #2. By the way, the Approach #2 is 90% of what you need to solve the problem of LRU Cache.\n"
   ]
  },
  {
   "cell_type": "markdown",
   "id": "4a59333b",
   "metadata": {},
   "source": [
    "## Approach 1: Singly Linked List\n",
    "Let's start from the simplest possible MyLinkedList, which contains just a structure size and a sentinel head.\n",
    "<img src=\"https://leetcode.com/problems/design-linked-list/Figures/707/singly4.png\" style=\"height:300px\">"
   ]
  },
  {
   "cell_type": "code",
   "execution_count": 7,
   "id": "f406bb88",
   "metadata": {
    "ExecuteTime": {
     "end_time": "2021-12-05T21:43:14.626466Z",
     "start_time": "2021-12-05T21:43:14.621465Z"
    }
   },
   "outputs": [],
   "source": [
    "class MyLinkedList:\n",
    "    def __init__(self):\n",
    "        self.size = 0\n",
    "        self.head = ListNode(0)   # sentinel node as pseudo-head"
   ]
  },
  {
   "cell_type": "markdown",
   "id": "99cff770",
   "metadata": {},
   "source": [
    "Note, that sentinel node is used as a pseudo-head and is always present. This way the structure could never be empty, it will contain at least a sentinel head. All nodes in MyLinkedList have a type ListNode: value + link to the next element."
   ]
  },
  {
   "cell_type": "code",
   "execution_count": 8,
   "id": "6c42d16f",
   "metadata": {
    "ExecuteTime": {
     "end_time": "2021-12-05T21:43:15.647187Z",
     "start_time": "2021-12-05T21:43:15.636185Z"
    }
   },
   "outputs": [],
   "source": [
    "class ListNode:\n",
    "    def __init__(self, x):\n",
    "        self.val = x\n",
    "        self.next = None"
   ]
  },
  {
   "cell_type": "markdown",
   "id": "a9a6a0b3",
   "metadata": {},
   "source": [
    "### Add at Index, Add at Head and Add at Tail\n",
    "Let's first discuss insert at index operation, because thanks to the sentinel node addAtTail and addAtHead operations could be reduced to this operation as well.\n",
    "\n",
    "The idea is straightforward:\n",
    "\n",
    "* Find the predecessor (被取代的原有事物) of the node to insert. If the node is to be inserted at head, its predecessor is a sentinel head. If the node is to be inserted at tail, it predecessor is the last node.\n",
    "\n",
    "* Insert the node by changing the link to the next node."
   ]
  },
  {
   "cell_type": "code",
   "execution_count": 9,
   "id": "da8105de",
   "metadata": {
    "ExecuteTime": {
     "end_time": "2021-12-05T21:47:36.978257Z",
     "start_time": "2021-12-05T21:47:36.970256Z"
    }
   },
   "outputs": [],
   "source": [
    "# to_add.next = pred.next\n",
    "\n",
    "# pred.next = to_add"
   ]
  },
  {
   "cell_type": "markdown",
   "id": "0841bdaa",
   "metadata": {
    "ExecuteTime": {
     "end_time": "2021-12-05T21:43:06.286925Z",
     "start_time": "2021-12-05T21:43:06.268927Z"
    }
   },
   "source": [
    "<img src=\"https://leetcode.com/problems/design-linked-list/Figures/707/singly_insert.png\" style=\"height:300px\">\n",
    "\n",
    "<img src=\"https://leetcode.com/problems/design-linked-list/Figures/707/singly_insert_head.png\" style=\"height:300px\">"
   ]
  },
  {
   "cell_type": "markdown",
   "id": "1a9f6050",
   "metadata": {},
   "source": [
    "### Delete at Index\n",
    "Basically, the same as insert:\n",
    "\n",
    "* Find the predecessor.\n",
    "\n",
    "* Delete node by changing the links to the next node."
   ]
  },
  {
   "cell_type": "code",
   "execution_count": 10,
   "id": "13c1d659",
   "metadata": {
    "ExecuteTime": {
     "end_time": "2021-12-05T21:51:34.767323Z",
     "start_time": "2021-12-05T21:51:34.759329Z"
    }
   },
   "outputs": [],
   "source": [
    "# delete\n",
    "# pred.next = pred.next.next"
   ]
  },
  {
   "cell_type": "markdown",
   "id": "cd5a4d60",
   "metadata": {},
   "source": [
    "<img src=\"https://leetcode.com/problems/design-linked-list/Figures/707/singly_delete.png\" style=\"height:300px\">"
   ]
  },
  {
   "cell_type": "markdown",
   "id": "2f62bdd4",
   "metadata": {},
   "source": [
    "## Get\n",
    "Get is a very straightforward: start from the sentinel node and do `index + 1` steps"
   ]
  },
  {
   "cell_type": "code",
   "execution_count": 1,
   "id": "04b4f0cb",
   "metadata": {
    "ExecuteTime": {
     "end_time": "2021-12-12T21:17:43.628867Z",
     "start_time": "2021-12-12T21:17:43.616864Z"
    }
   },
   "outputs": [],
   "source": [
    "# Index steps needed to move from sentinel node to wanted index\n",
    "\n",
    "# for _ in range (index + 1):\n",
    "        # curr = curr.next\n",
    "# return curr.val"
   ]
  },
  {
   "cell_type": "markdown",
   "id": "344abec5",
   "metadata": {},
   "source": [
    "<img src=\"https://leetcode.com/problems/design-linked-list/Figures/707/singly_get.png\" style=\"height:300px\">"
   ]
  },
  {
   "cell_type": "code",
   "execution_count": 2,
   "id": "339ddae0",
   "metadata": {
    "ExecuteTime": {
     "end_time": "2021-12-12T21:18:48.761923Z",
     "start_time": "2021-12-12T21:18:48.748920Z"
    }
   },
   "outputs": [],
   "source": [
    "class ListNode:\n",
    "    def __init__(self, x):\n",
    "        self.val = x\n",
    "        self.next = None\n",
    "\n",
    "class MyLinkedList:\n",
    "    def __init__(self):\n",
    "        self.size = 0\n",
    "        self.head = ListNode(0)  # sentinel node as pseudo-head\n",
    "        \n",
    "\n",
    "    def get(self, index: int) -> int:\n",
    "        \"\"\"\n",
    "        Get the value of the index-th node in the linked list. If the index is invalid, return -1.\n",
    "        \"\"\"\n",
    "        # if index is invalid\n",
    "        if index < 0 or index >= self.size:\n",
    "            return -1\n",
    "        \n",
    "        curr = self.head\n",
    "        # index steps needed \n",
    "        # to move from sentinel node to wanted index\n",
    "        for _ in range(index + 1):\n",
    "            curr = curr.next\n",
    "        return curr.val\n",
    "            \n",
    "\n",
    "    def addAtHead(self, val: int) -> None:\n",
    "        \"\"\"\n",
    "        Add a node of value val before the first element of the linked list. After the insertion, the new node will be the first node of the linked list.\n",
    "        \"\"\"\n",
    "        self.addAtIndex(0, val)\n",
    "        \n",
    "\n",
    "    def addAtTail(self, val: int) -> None:\n",
    "        \"\"\"\n",
    "        Append a node of value val to the last element of the linked list.\n",
    "        \"\"\"\n",
    "        self.addAtIndex(self.size, val)\n",
    "        \n",
    "\n",
    "    def addAtIndex(self, index: int, val: int) -> None:\n",
    "        \"\"\"\n",
    "        Add a node of value val before the index-th node in the linked list. If index equals to the length of linked list, the node will be appended to the end of linked list. If index is greater than the length, the node will not be inserted.\n",
    "        \"\"\"\n",
    "        # If index is greater than the length, \n",
    "        # the node will not be inserted.\n",
    "        if index > self.size:\n",
    "            return\n",
    "        \n",
    "        # [so weird] If index is negative, \n",
    "        # the node will be inserted at the head of the list.\n",
    "        if index < 0:\n",
    "            index = 0\n",
    "        \n",
    "        self.size += 1\n",
    "        # find predecessor of the node to be added\n",
    "        pred = self.head\n",
    "        for _ in range(index):\n",
    "            pred = pred.next\n",
    "            \n",
    "        # node to be added\n",
    "        to_add = ListNode(val)\n",
    "        # insertion itself\n",
    "        to_add.next = pred.next\n",
    "        pred.next = to_add\n",
    "        \n",
    "\n",
    "    def deleteAtIndex(self, index: int) -> None:\n",
    "        \"\"\"\n",
    "        Delete the index-th node in the linked list, if the index is valid.\n",
    "        \"\"\"\n",
    "        # if the index is invalid, do nothing\n",
    "        if index < 0 or index >= self.size:\n",
    "            return\n",
    "        \n",
    "        self.size -= 1\n",
    "        # find predecessor of the node to be deleted\n",
    "        pred = self.head\n",
    "        for _ in range(index):\n",
    "            pred = pred.next\n",
    "            \n",
    "        # delete pred.next \n",
    "        pred.next = pred.next.next"
   ]
  },
  {
   "cell_type": "code",
   "execution_count": null,
   "id": "48348446",
   "metadata": {},
   "outputs": [],
   "source": []
  }
 ],
 "metadata": {
  "kernelspec": {
   "display_name": "Python 3",
   "language": "python",
   "name": "python3"
  },
  "language_info": {
   "codemirror_mode": {
    "name": "ipython",
    "version": 3
   },
   "file_extension": ".py",
   "mimetype": "text/x-python",
   "name": "python",
   "nbconvert_exporter": "python",
   "pygments_lexer": "ipython3",
   "version": "3.8.8"
  },
  "varInspector": {
   "cols": {
    "lenName": 16,
    "lenType": 16,
    "lenVar": 40
   },
   "kernels_config": {
    "python": {
     "delete_cmd_postfix": "",
     "delete_cmd_prefix": "del ",
     "library": "var_list.py",
     "varRefreshCmd": "print(var_dic_list())"
    },
    "r": {
     "delete_cmd_postfix": ") ",
     "delete_cmd_prefix": "rm(",
     "library": "var_list.r",
     "varRefreshCmd": "cat(var_dic_list()) "
    }
   },
   "types_to_exclude": [
    "module",
    "function",
    "builtin_function_or_method",
    "instance",
    "_Feature"
   ],
   "window_display": false
  }
 },
 "nbformat": 4,
 "nbformat_minor": 5
}
