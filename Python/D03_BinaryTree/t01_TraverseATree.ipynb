{
 "cells": [
  {
   "cell_type": "markdown",
   "id": "c850f09e",
   "metadata": {},
   "source": [
    "# Overview\n",
    "___\n",
    "A `tree` is frequently-used data structure to simulate a hierarchical tree structure.\n",
    "\n",
    "Each node of the tree will have a root value and a list of reference to other nodes which are called child nodes. From the graph view, a tree can also be defined as a directed acyclic graph which has `N nodes` and `N-1 edges`.\n",
    "\n",
    "A `Binary Tree` is one the most typical tree structure. As the name suggests, a binary tree is a tree data structure in which each node has `at most two children`, which are referred to as the left child and right child.\n",
    "\n",
    "By completing this card, you will be able to:\n",
    "1. Understand the concept of a `tree` and a `binary tree`;\n",
    "2. Be familiar with different `traversal` methods;\n",
    "3. Use `recursion` to solve binary-tree-related problems"
   ]
  },
  {
   "cell_type": "markdown",
   "id": "e379c1b7",
   "metadata": {},
   "source": [
    "# Traverse A Tree\n",
    "___\n",
    "In the introduction, we have gone through the concept of a tree and a binary tree.\n",
    "\n",
    "In this chapter, we will focus on the traversal method used in binary tree. Understanding these traversal method will definitely help you have a better understanding of the tree structure and have a solid foundation for the further study.\n",
    "\n",
    "The goal of this chapter is to:\n",
    "\n",
    "1. Understand the difference between different tree traversal methods\n",
    "2. Be able to solve pre-order, in-order, post-order traversal `recursively`\n",
    "3. Be able to solve pre-order, in-order, post-order traversal `iteratively`\n",
    "4. Be able to do `level"
   ]
  },
  {
   "cell_type": "markdown",
   "id": "4a7a8d51",
   "metadata": {},
   "source": [
    "## Pre-order Traversal\n",
    "___\n",
    "Pre-order traversal is to visit the root first. Then traverse the left subtree. Finally, traverse the right subtree.\n",
    "## In-order Traversal\n",
    "___\n",
    "In-order traversal is to traverse the left subtree first. Then visit the root. Finally traverse the right subtree.\n",
    "\n",
    "Typically, for `binary search tree`, we can retrieve all the data in sorted order using in-order traversal. We will mention that again in another card(Introduction to Data Structure - Binary Search Tree).\n",
    "\n",
    "## Post-order Traversal\n",
    "___\n",
    "Post-order traversal is to traverse the left subtree first. Then traverse the right subtree. Finally, visit the root.\n",
    "\n",
    "It is worth noting that when you delete nodes in a tree, deletion process will be in post-order. That is to say, when you delete a node, you will delete its left child and its right child before you delete the node itself.\n",
    "\n",
    "Also, post-order is widely use in mathematical expression. It is easier to write a program to parse a post-order expression. Here is an example:\n",
    "<img src=\"https://leetcode.com/explore/learn/card/data-structure-tree/134/traverse-a-tree/Figures/binary_tree/mathematical_expression.png\" style=\"height:180px\">\n",
    "You can easily figure out the original expression using the inorder traversal. However, it is not easy for a program to handle this expression since you have to check the priorities of operations.\n",
    "\n",
    "If you handle this tree in postorder, you can easily handle the expression using a stack. Each time when you meet a operator, you can just pop 2 elements from the stack, calculate the result and push the result back into the stack.\n"
   ]
  },
  {
   "cell_type": "markdown",
   "id": "4a0457ed",
   "metadata": {},
   "source": [
    "# Binary Tree Pre-order Traversal\n",
    "___\n",
    "## How to traverse the tree\n",
    "There are two general strategies to traverse a tree:\n",
    "* Breadth First Search (`BFS`)\n",
    "\n",
    "    We scan through the tree level by level, following the order of height, from top to bottom. The nodes on higher level would be visited before the ones with lower levels.\n",
    "\n",
    "* Depth First Search (`DFS`)\n",
    "\n",
    "    In this strategy, we adopt the `depth` as the priority, so that one would start from a root and reach all the way down to certain leaf, and then back to root to reach anther branch.\n",
    "\n",
    "    The DFS strategy can further be distinguished as `preorder`, `inorder` and `postorder` depending on the relative order among the root node, left node and right node.\n",
    "\n",
    "On the following figure the nodes are numerated in the order you visit them, please follow `1-2-3-4-5` to compare different strategies.\n",
    "\n",
    "<img src=\"https://leetcode.com/problems/binary-tree-preorder-traversal/Figures/145_transverse.png\" style=\"height:300px\">"
   ]
  },
  {
   "cell_type": "markdown",
   "id": "a4b03a41",
   "metadata": {},
   "source": [
    "## Approach 1: Iterations\n",
    "___\n",
    "First of all, here is the definition of the `TreeNode`, which we would use in the following implementation."
   ]
  },
  {
   "cell_type": "code",
   "execution_count": 1,
   "id": "644d3cc5",
   "metadata": {
    "ExecuteTime": {
     "end_time": "2022-01-10T22:04:35.901970Z",
     "start_time": "2022-01-10T22:04:35.887966Z"
    }
   },
   "outputs": [],
   "source": [
    "class TreeNode(object):\n",
    "    \"\"\"Definition of a binary tree node\"\"\"\n",
    "    def __init__(self, x):\n",
    "        self.val = x\n",
    "        self.left = None\n",
    "        self.right = None"
   ]
  },
  {
   "cell_type": "code",
   "execution_count": null,
   "id": "2cac2bd2",
   "metadata": {},
   "outputs": [],
   "source": [
    "def preorder(root):\n",
    "    \"\"\"\n",
    "    \n",
    "    \"\"\""
   ]
  }
 ],
 "metadata": {
  "kernelspec": {
   "display_name": "Python 3",
   "language": "python",
   "name": "python3"
  },
  "language_info": {
   "codemirror_mode": {
    "name": "ipython",
    "version": 3
   },
   "file_extension": ".py",
   "mimetype": "text/x-python",
   "name": "python",
   "nbconvert_exporter": "python",
   "pygments_lexer": "ipython3",
   "version": "3.8.8"
  },
  "toc": {
   "base_numbering": 1,
   "nav_menu": {},
   "number_sections": true,
   "sideBar": true,
   "skip_h1_title": false,
   "title_cell": "Table of Contents",
   "title_sidebar": "Contents",
   "toc_cell": false,
   "toc_position": {},
   "toc_section_display": true,
   "toc_window_display": false
  },
  "varInspector": {
   "cols": {
    "lenName": 16,
    "lenType": 16,
    "lenVar": 40
   },
   "kernels_config": {
    "python": {
     "delete_cmd_postfix": "",
     "delete_cmd_prefix": "del ",
     "library": "var_list.py",
     "varRefreshCmd": "print(var_dic_list())"
    },
    "r": {
     "delete_cmd_postfix": ") ",
     "delete_cmd_prefix": "rm(",
     "library": "var_list.r",
     "varRefreshCmd": "cat(var_dic_list()) "
    }
   },
   "types_to_exclude": [
    "module",
    "function",
    "builtin_function_or_method",
    "instance",
    "_Feature"
   ],
   "window_display": false
  }
 },
 "nbformat": 4,
 "nbformat_minor": 5
}
