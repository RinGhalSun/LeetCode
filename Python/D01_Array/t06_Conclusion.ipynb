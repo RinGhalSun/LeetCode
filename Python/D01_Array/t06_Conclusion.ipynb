{
 "cells": [
  {
   "cell_type": "markdown",
   "id": "bccf9782",
   "metadata": {},
   "source": [
    "# Height Checker\n",
    "A school is trying to take an annual photo of all the students. The students are asked to stand in a single file line in **non-decreasing order** by height. Let this ordering be represented by the integer array `expected` where `expected[i]` is the expected height of the `ith` student in line.\n",
    "\n",
    "You are given an integer array `heights` representing the **current order** that the students are standing in. Each heights[i] is the height of the `ith` student in line (**0-indexed**).\n",
    "\n",
    "Return the **number of indices** where `heights[i] != expected[i]`."
   ]
  },
  {
   "cell_type": "code",
   "execution_count": 1,
   "id": "f2c3e8a7",
   "metadata": {
    "ExecuteTime": {
     "end_time": "2021-12-02T00:43:53.675373Z",
     "start_time": "2021-12-02T00:43:53.671374Z"
    }
   },
   "outputs": [],
   "source": [
    "def heightChecker(arr):\n",
    "    sorted_ = sorted(arr)\n",
    "    k = 0\n",
    "    for i in range(len(arr)):\n",
    "        if (sorted_[i] != arr[i]):\n",
    "            k += 1\n",
    "    return k"
   ]
  },
  {
   "cell_type": "markdown",
   "id": "cad6b896",
   "metadata": {},
   "source": [
    "# Max Consecutive Ones 2\n",
    "Given a binary array `nums`, return *the maximum number of consecutive `1`s in the array if you can flip at most one `0`.\n",
    "\n",
    "在允许包含一个0的情况下,最多有多少连续的1\n",
    "\n",
    "两个指针一前一后移动,根据情况+1"
   ]
  },
  {
   "cell_type": "code",
   "execution_count": 3,
   "id": "21a4f290",
   "metadata": {
    "ExecuteTime": {
     "end_time": "2021-12-02T00:58:30.860344Z",
     "start_time": "2021-12-02T00:58:30.844340Z"
    }
   },
   "outputs": [
    {
     "data": {
      "text/plain": [
       "4"
      ]
     },
     "execution_count": 3,
     "metadata": {},
     "output_type": "execute_result"
    }
   ],
   "source": [
    "def consecutiveOnes(arr):\n",
    "    k = 0\n",
    "    left, right = 0, 0\n",
    "    zeros = 0\n",
    "    \n",
    "    while (right < len(arr)):\n",
    "        if (arr[right] == 0):\n",
    "            zeros += 1\n",
    "        \n",
    "        while (zeros == 2):\n",
    "            if (arr[left] == 0):\n",
    "                zeros -= 1\n",
    "            left += 1\n",
    "        \n",
    "        k = max(k, right - left + 1)\n",
    "        right += 1\n",
    "    return k\n",
    "\n",
    "arr = [1,0,1,1,0,1]\n",
    "consecutiveOnes(arr)"
   ]
  },
  {
   "cell_type": "markdown",
   "id": "d915f33f",
   "metadata": {},
   "source": [
    "# Third Maximum Number:\n",
    "Given an integer array `nums`, return the **third distinct maximum** number in this array. If the third maximum does not exist, return the **maximum** number."
   ]
  },
  {
   "cell_type": "code",
   "execution_count": 6,
   "id": "f991d1c7",
   "metadata": {
    "ExecuteTime": {
     "end_time": "2021-12-02T01:34:46.451613Z",
     "start_time": "2021-12-02T01:34:46.435618Z"
    }
   },
   "outputs": [],
   "source": [
    "def thirdMax(arr):\n",
    "    maximums = set()\n",
    "    for i in arr:\n",
    "        maximums.add(num)\n",
    "        if (len(maximums) > 3):\n",
    "            maximums.remove(min(maximums))\n",
    "        if (len(maximums) == 3):\n",
    "            return min(maximums)\n",
    "        return max(maximums)"
   ]
  },
  {
   "cell_type": "markdown",
   "id": "118eea2f",
   "metadata": {},
   "source": [
    "## Comment:\n",
    "It would be fucking easy if using set()"
   ]
  },
  {
   "cell_type": "markdown",
   "id": "48ae450e",
   "metadata": {},
   "source": [
    "# Find All Numbers Disappeared in an Array\n"
   ]
  },
  {
   "cell_type": "code",
   "execution_count": 7,
   "id": "46453a5c",
   "metadata": {
    "ExecuteTime": {
     "end_time": "2021-12-02T01:46:24.599935Z",
     "start_time": "2021-12-02T01:46:24.585932Z"
    }
   },
   "outputs": [],
   "source": [
    "def findNumber(nums):\n",
    "    hash_table = {}\n",
    "    \n",
    "    for i in nums:\n",
    "        hash_table[num] = 1\n",
    "    \n",
    "    result = []\n",
    "    \n",
    "    for i in range(1, len(nums) + 1):\n",
    "        if (i not in hash_table):\n",
    "            result.append(i)\n",
    "    \n",
    "    return result"
   ]
  },
  {
   "cell_type": "markdown",
   "id": "5f179ab2",
   "metadata": {},
   "source": [
    "# Squares of a Sorted Array"
   ]
  },
  {
   "cell_type": "code",
   "execution_count": null,
   "id": "3a266649",
   "metadata": {},
   "outputs": [],
   "source": [
    "def square(nums):\n",
    "    n = len(nums)\n",
    "    result = [0] * n\n",
    "    left = 0\n",
    "    right = n - 1\n",
    "    \n",
    "    for i in range(n):\n",
    "        if (abs(nums[left]) > abs(nums[right])):\n",
    "            result[n - 1 - i] = nums[left] * nums[left]\n",
    "            left += 1\n",
    "        else:\n",
    "            result[n - 1 - i] = nums[right] * nums[right]\n",
    "            right -= 1\n",
    "    \n",
    "    return result"
   ]
  }
 ],
 "metadata": {
  "kernelspec": {
   "display_name": "Python 3",
   "language": "python",
   "name": "python3"
  },
  "language_info": {
   "codemirror_mode": {
    "name": "ipython",
    "version": 3
   },
   "file_extension": ".py",
   "mimetype": "text/x-python",
   "name": "python",
   "nbconvert_exporter": "python",
   "pygments_lexer": "ipython3",
   "version": "3.8.8"
  },
  "varInspector": {
   "cols": {
    "lenName": 16,
    "lenType": 16,
    "lenVar": 40
   },
   "kernels_config": {
    "python": {
     "delete_cmd_postfix": "",
     "delete_cmd_prefix": "del ",
     "library": "var_list.py",
     "varRefreshCmd": "print(var_dic_list())"
    },
    "r": {
     "delete_cmd_postfix": ") ",
     "delete_cmd_prefix": "rm(",
     "library": "var_list.r",
     "varRefreshCmd": "cat(var_dic_list()) "
    }
   },
   "types_to_exclude": [
    "module",
    "function",
    "builtin_function_or_method",
    "instance",
    "_Feature"
   ],
   "window_display": false
  }
 },
 "nbformat": 4,
 "nbformat_minor": 5
}
