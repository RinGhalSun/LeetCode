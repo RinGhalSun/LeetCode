{
 "cells": [
  {
   "cell_type": "markdown",
   "id": "c921c6eb",
   "metadata": {},
   "source": [
    "# Remove Element\n",
    "Given an integer array `nums` and an integer `val`, remove all occurrences (出现的东西) of `val` in `nums` **in-place**. The relative order of the elements may be changed.\n",
    "\n",
    "Since it is impossible to change the length of the array in some languages, you must instead have have the result be placed in the **first part** of the array `nums`. More formally, if there are `k` elements after removing the duplicates, then the first `k` elements of `nums` should hold the final result. It doesn't matter what you leave beyond the first `k` elements.\n",
    "\n",
    "Return `k` *after placing the final result in the first `k` slots (空挡) of `nums`\n",
    "\n",
    "**Do not** allocate extra space for another array. Your must do this by **modifying the input array `in-place`** with O(1) extra memory.\n",
    "\n",
    "\n",
    "**Example**:\n",
    "\n",
    "    Input: nums = [3,2,2,3], val = 3\n",
    "    Output: 2, nums = [2,2,_,_]\n",
    "    \n",
    "**HINT**:\n",
    "\n",
    "<img src = \"https://assets.leetcode.com/uploads/2019/10/20/hint_remove_element.png\" style=\"height:300px\">"
   ]
  },
  {
   "cell_type": "code",
   "execution_count": 6,
   "id": "1ce0400f",
   "metadata": {
    "ExecuteTime": {
     "end_time": "2021-12-01T20:39:46.886137Z",
     "start_time": "2021-12-01T20:39:46.877135Z"
    }
   },
   "outputs": [
    {
     "name": "stdout",
     "output_type": "stream",
     "text": [
      "3\n",
      "[1, 3, 4, 3, 2]\n"
     ]
    }
   ],
   "source": [
    "def removeElement(nums, val):\n",
    "    i = 0\n",
    "    n = len(nums)\n",
    "    while (i < n):\n",
    "        if (nums[i] == val):\n",
    "            nums[i] = nums[n - 1]\n",
    "            n -= 1\n",
    "        else:\n",
    "            i += 1\n",
    "    return n\n",
    "\n",
    "nums = [1,2,4,3,2]\n",
    "val = 2\n",
    "\n",
    "print(removeElement(nums, val))\n",
    "print(nums)\n"
   ]
  },
  {
   "cell_type": "markdown",
   "id": "f225b5b4",
   "metadata": {},
   "source": [
    "## Comment:\n",
    "这个题有意思的点在于:\n",
    "\n",
    "    * 要考虑到两个指针只要相触,就代表整个array整理完成\n",
    "    * 我们并不需要考虑前几个数的顺序,和后面几个数的内容,只需要确定前面的k"
   ]
  },
  {
   "cell_type": "markdown",
   "id": "7c617974",
   "metadata": {},
   "source": [
    "# Remove Duplicates from Sorted Array\n",
    "Given an integer array `nums` sorted in **non-decreasing order**, remove the duplicates **in-place** such that each unique element appears only once. The **relative order** of the elements should be kept the **same**.\n",
    "\n",
    "Since it is impossible to change the length of the array in some languages, you must instead have the result be placed in the **first part** of the array `nums`. More formally, if there are `k` elements after removing the duplicates, then the first `k` elements of `nums` should hold the final result. It does not matter what you leave beyond the first `k` elements.\n",
    "\n",
    "Return `k` *after placing the final result in the first `k` slots of `nums`.\n",
    "\n",
    "**Do not** allocate extra space for another array. You must do this by **modifying the input array `in-place`** with O(1) extra memory.\n",
    "\n",
    "**Example**:\n",
    "\n",
    "    Input: nums = [1,1,2]\n",
    "    Output: 2, nums = [1,2,_]"
   ]
  },
  {
   "cell_type": "code",
   "execution_count": 10,
   "id": "6e1bd91b",
   "metadata": {
    "ExecuteTime": {
     "end_time": "2021-12-01T21:16:46.487137Z",
     "start_time": "2021-12-01T21:16:46.478135Z"
    }
   },
   "outputs": [
    {
     "name": "stdout",
     "output_type": "stream",
     "text": [
      "2\n",
      "[1, 2, 2]\n"
     ]
    }
   ],
   "source": [
    "def removeDuplicates(nums):\n",
    "    k = 1\n",
    "    n = len(nums)\n",
    "    for i in range(1, n):\n",
    "        if (nums[i-1] != nums[i]):\n",
    "            nums[k] = nums[i]\n",
    "            k += 1\n",
    "    return k\n",
    "            \n",
    "nums = [1,1,2]\n",
    "print(removeDuplicates(nums))\n",
    "print(nums)"
   ]
  },
  {
   "cell_type": "markdown",
   "id": "dd3da4b6",
   "metadata": {},
   "source": [
    "## Comment\n",
    "This one is very easy, nothing to comment."
   ]
  },
  {
   "cell_type": "code",
   "execution_count": null,
   "id": "aa0aa082",
   "metadata": {},
   "outputs": [],
   "source": []
  }
 ],
 "metadata": {
  "kernelspec": {
   "display_name": "Python 3",
   "language": "python",
   "name": "python3"
  },
  "language_info": {
   "codemirror_mode": {
    "name": "ipython",
    "version": 3
   },
   "file_extension": ".py",
   "mimetype": "text/x-python",
   "name": "python",
   "nbconvert_exporter": "python",
   "pygments_lexer": "ipython3",
   "version": "3.8.8"
  },
  "toc": {
   "base_numbering": 1,
   "nav_menu": {},
   "number_sections": true,
   "sideBar": true,
   "skip_h1_title": false,
   "title_cell": "Table of Contents",
   "title_sidebar": "Contents",
   "toc_cell": false,
   "toc_position": {},
   "toc_section_display": true,
   "toc_window_display": false
  }
 },
 "nbformat": 4,
 "nbformat_minor": 5
}
