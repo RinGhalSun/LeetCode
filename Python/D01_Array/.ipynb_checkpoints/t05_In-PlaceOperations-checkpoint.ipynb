{
 "cells": [
  {
   "cell_type": "markdown",
   "id": "4017ba4a",
   "metadata": {},
   "source": [
    "# Replace Elements with Greatest Element on Right Side\n",
    "\n",
    "Given an array `arr`, replace every element in that array with the greatest element among the elements to its right, and replace the last element with `-1`.\n",
    "\n",
    "**Example**\n",
    "    Input: arr = [17,18,5,4,6,1]\n",
    "    Output: [18,6,6,6,1,-1]\n",
    "    \n",
    "从-1角度入手,反向遍历"
   ]
  },
  {
   "cell_type": "code",
   "execution_count": 4,
   "id": "284677d6",
   "metadata": {
    "ExecuteTime": {
     "end_time": "2021-12-01T23:52:38.063719Z",
     "start_time": "2021-12-01T23:52:38.052716Z"
    }
   },
   "outputs": [
    {
     "data": {
      "text/plain": [
       "[18, 6, 6, 6, 1, -1]"
      ]
     },
     "execution_count": 4,
     "metadata": {},
     "output_type": "execute_result"
    }
   ],
   "source": [
    "def replaceRight(arr):\n",
    "    n = len(arr) - 1\n",
    "    max_ = -1\n",
    "    for i in range(n, -1, -1):\n",
    "        arr[i], max_ = max_, max(max_, arr[i])\n",
    "    return arr\n",
    "\n",
    "arr = [17,18,5,4,6,1]\n",
    "replaceRight(arr)"
   ]
  },
  {
   "cell_type": "markdown",
   "id": "07904417",
   "metadata": {},
   "source": [
    "# Remove Duplicate from Sorted Array\n",
    "\n",
    "Given an integer array `nums` sorted in **non-decreasing order**, remove the duplicates **in-place** such that each unique element appears only **once**. The **relative order** of the elements should be kept the **same**.\n",
    "\n",
    "Since it is impossible to change the length of the array in some languages, you must instead have the result be placed in the **first part** of the array `nums`. More formally, if there are `k` elements after removing the duplicates, then the first `k` elements of `nums` should hold the final result. It does not matter what you leave beyond the first `k` elements.\n",
    "\n",
    "Return `k` *after placing the final result in the first* `k` *slots of* `nums`.\n",
    "\n",
    "Do not allocate extra space for another array. You must do this by modifying the input array in-place with O(1) extra memory."
   ]
  },
  {
   "cell_type": "code",
   "execution_count": 7,
   "id": "e6fced7e",
   "metadata": {
    "ExecuteTime": {
     "end_time": "2021-12-02T00:00:26.363760Z",
     "start_time": "2021-12-02T00:00:26.354765Z"
    }
   },
   "outputs": [
    {
     "name": "stdout",
     "output_type": "stream",
     "text": [
      "2\n",
      "[1, 2, 2]\n"
     ]
    }
   ],
   "source": [
    "def removeDuplicate(arr):\n",
    "    n = len(arr)\n",
    "    k = 1\n",
    "    for i in range(1, n):\n",
    "        if (arr[i-1] != arr[i]):\n",
    "            arr[k] = arr[i]\n",
    "            k += 1\n",
    "    return k\n",
    "\n",
    "arr = [1,1,2]\n",
    "print(removeDuplicate(arr))\n",
    "print(arr)"
   ]
  },
  {
   "cell_type": "markdown",
   "id": "a1ebccf8",
   "metadata": {},
   "source": [
    "# Move Zeros\n",
    "Given an integer array `nums`, move all `0`s to the end of it while maintaining the relative order of the non-zero elements\n",
    "\n",
    "**Must** do this in-place"
   ]
  },
  {
   "cell_type": "code",
   "execution_count": 12,
   "id": "002bc035",
   "metadata": {
    "ExecuteTime": {
     "end_time": "2021-12-02T00:09:51.481560Z",
     "start_time": "2021-12-02T00:09:51.471565Z"
    }
   },
   "outputs": [
    {
     "data": {
      "text/plain": [
       "[1, 3, 12, 0, 0]"
      ]
     },
     "execution_count": 12,
     "metadata": {},
     "output_type": "execute_result"
    }
   ],
   "source": [
    "def moveZeros(arr):\n",
    "    k = 0\n",
    "    n = len(arr)\n",
    "    for i in range(n):\n",
    "        if (arr[i] != 0):\n",
    "            arr[k], arr[i] = arr[i], arr[k]\n",
    "            k += 1\n",
    "    return arr\n",
    "\n",
    "arr = [0,1,0,3,12]\n",
    "moveZeros(arr)"
   ]
  },
  {
   "cell_type": "markdown",
   "id": "03a0baea",
   "metadata": {},
   "source": [
    "# Sort Array by Parity\n",
    "Given an integer array `nums`, move all the even integers at the beginning of the array followed by all the odd integers"
   ]
  },
  {
   "cell_type": "code",
   "execution_count": 14,
   "id": "d2e3061a",
   "metadata": {
    "ExecuteTime": {
     "end_time": "2021-12-02T00:11:03.597957Z",
     "start_time": "2021-12-02T00:11:03.585963Z"
    }
   },
   "outputs": [
    {
     "data": {
      "text/plain": [
       "[2, 4, 3, 1]"
      ]
     },
     "execution_count": 14,
     "metadata": {},
     "output_type": "execute_result"
    }
   ],
   "source": [
    "def sortParity(arr):\n",
    "    k = 0\n",
    "    n = len(arr)\n",
    "    for i in range(n):\n",
    "        if (arr[i] % 2 == 0):\n",
    "            arr[k], arr[i] = arr[i], arr[k]\n",
    "            k += 1\n",
    "    return arr\n",
    "\n",
    "arr = [3,1,2,4]\n",
    "sortParity(arr)"
   ]
  },
  {
   "cell_type": "markdown",
   "id": "6902f85a",
   "metadata": {},
   "source": [
    "# Remove Element\n",
    "Given an integer array `nums` and an integer `val`, remove all occurrences of val in `nums` in-place. The relative order of the elements may be changed.\n",
    "\n",
    "Since it is impossible to change the length of the array in some languages, you must instead have the result be placed in the **first part** of the array `nums`. More formally, if there are `k` elements after removing the duplicates, then the first `k` elements of `nums` should hold the final result. It does not matter what you leave beyond the first `k` elements.\n",
    "\n",
    "Return `k` after placing the final result in the first `k` slots of `nums`.\n",
    "\n",
    "Do **not** allocate extra space for another array. You must do this by modifying the input array in-place with O(1) extra memory."
   ]
  },
  {
   "cell_type": "code",
   "execution_count": 16,
   "id": "b3fd985f",
   "metadata": {
    "ExecuteTime": {
     "end_time": "2021-12-02T00:16:06.207373Z",
     "start_time": "2021-12-02T00:16:06.189376Z"
    }
   },
   "outputs": [
    {
     "name": "stdout",
     "output_type": "stream",
     "text": [
      "2\n",
      "[2, 2, 2, 3]\n"
     ]
    }
   ],
   "source": [
    "def removeElement(arr, val):\n",
    "    n = len(arr)\n",
    "    k = 0\n",
    "    for i in range(n):\n",
    "        if (arr[i] != val):\n",
    "            arr[k] = arr[i]\n",
    "            k += 1\n",
    "    return k\n",
    "\n",
    "arr = [3,2,2,3]\n",
    "val = 3\n",
    "\n",
    "print(removeElement(arr,val))\n",
    "print(arr)"
   ]
  },
  {
   "cell_type": "code",
   "execution_count": null,
   "id": "dce4dd7c",
   "metadata": {},
   "outputs": [],
   "source": []
  }
 ],
 "metadata": {
  "kernelspec": {
   "display_name": "Python 3",
   "language": "python",
   "name": "python3"
  },
  "language_info": {
   "codemirror_mode": {
    "name": "ipython",
    "version": 3
   },
   "file_extension": ".py",
   "mimetype": "text/x-python",
   "name": "python",
   "nbconvert_exporter": "python",
   "pygments_lexer": "ipython3",
   "version": "3.8.8"
  },
  "toc": {
   "base_numbering": 1,
   "nav_menu": {},
   "number_sections": true,
   "sideBar": true,
   "skip_h1_title": false,
   "title_cell": "Table of Contents",
   "title_sidebar": "Contents",
   "toc_cell": false,
   "toc_position": {},
   "toc_section_display": true,
   "toc_window_display": false
  },
  "varInspector": {
   "cols": {
    "lenName": 16,
    "lenType": 16,
    "lenVar": 40
   },
   "kernels_config": {
    "python": {
     "delete_cmd_postfix": "",
     "delete_cmd_prefix": "del ",
     "library": "var_list.py",
     "varRefreshCmd": "print(var_dic_list())"
    },
    "r": {
     "delete_cmd_postfix": ") ",
     "delete_cmd_prefix": "rm(",
     "library": "var_list.r",
     "varRefreshCmd": "cat(var_dic_list()) "
    }
   },
   "position": {
    "height": "144.844px",
    "left": "587px",
    "right": "20px",
    "top": "130px",
    "width": "350px"
   },
   "types_to_exclude": [
    "module",
    "function",
    "builtin_function_or_method",
    "instance",
    "_Feature"
   ],
   "window_display": false
  }
 },
 "nbformat": 4,
 "nbformat_minor": 5
}
