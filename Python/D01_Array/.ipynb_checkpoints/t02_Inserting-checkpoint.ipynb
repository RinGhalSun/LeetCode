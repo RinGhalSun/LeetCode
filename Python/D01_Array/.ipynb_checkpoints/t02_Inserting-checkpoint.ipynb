{
 "cells": [
  {
   "cell_type": "markdown",
   "id": "242bcaf5",
   "metadata": {},
   "source": [
    "# Duplicate Zeros\n",
    "Given a fixed-length integer array `arr`, duplicate each occurrence of zero, shift the remaining elements to the right.\n",
    "\n",
    "**Note** that elements beyond the length of the original array are not written. Do the above modifications to the input array in place and do not return anything\n",
    "\n",
    "**HINT**\n",
    "![Duplicate Zeros1](https://leetcode.com/problems/duplicate-zeros/Figures/1089/1089_Duplicate_Zeros_4.png)\n",
    "<img src=\"https://leetcode.com/problems/duplicate-zeros/Figures/1089/1089_Duplicate_Zeros_5.png\" style=\"height:500px\" />"
   ]
  },
  {
   "cell_type": "code",
   "execution_count": 6,
   "id": "643c2696",
   "metadata": {
    "ExecuteTime": {
     "end_time": "2021-12-01T18:45:59.971518Z",
     "start_time": "2021-12-01T18:45:59.955515Z"
    }
   },
   "outputs": [
    {
     "name": "stdout",
     "output_type": "stream",
     "text": [
      "[1, 0, 0, 0, 0]\n",
      "[1, 0, 0, 2, 0]\n"
     ]
    }
   ],
   "source": [
    "def duplicateZeros(arr):\n",
    "    # first, need to find the position to cut the array\n",
    "    duplicateZero = 0\n",
    "    n = len(arr)\n",
    "    \n",
    "    for i in range(n):\n",
    "        if (i + duplicateZero > n-1):\n",
    "            break\n",
    "        \n",
    "        if (arr[i] == 0):\n",
    "            if (i + duplicateZero == n-1):\n",
    "                arr[n-1] = 0\n",
    "                n -= 1\n",
    "                break\n",
    "            else:\n",
    "                duplicateZero += 1\n",
    "        # 如果最后有一个不需要复制的0\n",
    "        # 那么我们直接把他放到数组最后一位,并且需要操作的数组总数-1\n",
    "        \n",
    "    # find the position\n",
    "    last = n - 1 - duplicateZero\n",
    "    \n",
    "    for i in range(last, -1, -1):\n",
    "        if (arr[i] != 0):\n",
    "            arr[i + duplicateZero] = arr[i]\n",
    "        else:\n",
    "            arr[i + duplicateZero] = 0\n",
    "            duplicateZero -= 1\n",
    "            arr[i + duplicateZero] = 0\n",
    "\n",
    "            \n",
    "arr1 = [1,0,0,2,3]\n",
    "duplicateZeros(arr1)\n",
    "print(arr1)\n",
    "arr2 = [1,0,2,0,3]\n",
    "duplicateZeros(arr2)\n",
    "print(arr2)"
   ]
  },
  {
   "cell_type": "markdown",
   "id": "c72f2422",
   "metadata": {},
   "source": [
    "## Comment\n",
    "这个题真的tricky:\n",
    "\n",
    "* 首先,我们要确定复制几个0,并且避免出现多复制最后一个0的情况\n",
    "* 之后我们通过这个duplicateZero,可以确定出最后一位数字是哪个\n",
    "* 然后倒序指针复制0,平移其他数字"
   ]
  },
  {
   "cell_type": "markdown",
   "id": "535a93da",
   "metadata": {},
   "source": [
    "# Merge Sorted Arrays\n",
    "You are given two integer arrays `nums1` and `nums2`, sorted in non-decreasing order, and two integer `m` and `n`, representing the number of elements in `nums1` and `num2` respectively.\n",
    "\n",
    "**Merge** `nums1` and `nums2` into a single array sorted in **non-decreasing order**.\n",
    "\n",
    "The final sorted array should not be returned by the function, but instead be *sorted inside the array* `nums1`. To accommodate this, `nums1` has a length of `m+n`, where the first `m` elements denote the elements that should be merged, and the last `n` elements are set to `0` and should be ignored, `nums2` has a length of `n`.\n",
    "\n",
    "**HINT**\n",
    "Use three pointers\n",
    "\n",
    "![merge sorted](https://leetcode.com/problems/merge-sorted-array/Figures/88/88_end.png)"
   ]
  },
  {
   "cell_type": "code",
   "execution_count": 24,
   "id": "16f7c5e9",
   "metadata": {
    "ExecuteTime": {
     "end_time": "2021-12-01T19:23:56.163829Z",
     "start_time": "2021-12-01T19:23:56.144821Z"
    }
   },
   "outputs": [
    {
     "name": "stdout",
     "output_type": "stream",
     "text": [
      "[1, 2]\n"
     ]
    }
   ],
   "source": [
    "def mergeSorted(nums1, m, nums2, n):\n",
    "    m1 = m - 1\n",
    "    n1 = n - 1\n",
    "    for i in range(m + n - 1, -1, -1):\n",
    "        if (n1 < 0):\n",
    "            break\n",
    "        # 如果n1小于0,则说明nums2已经全部插入到nums1中\n",
    "        if (nums1[m1] > nums2[n1] and m1 >= 0):\n",
    "            nums1[i] = nums1[m1]\n",
    "            m1 -= 1\n",
    "        # 反之,如果m1小于0,则将nums2中的所有数都复制到对应的nums1中\n",
    "        else:\n",
    "            nums1[i] = nums2[n1]\n",
    "            n1 -= 1\n",
    "\n",
    "nums1 = [2,0]\n",
    "m = 1\n",
    "nums2 = [1]\n",
    "n = 1\n",
    "\n",
    "mergeSorted(nums1, m, nums2, n)\n",
    "print(nums1)"
   ]
  },
  {
   "cell_type": "markdown",
   "id": "522503c2",
   "metadata": {},
   "source": [
    "## Comment\n",
    "This one is very classic and tricky, when facing strange arrays. Need to consider more situations that **MAY** destroy your code."
   ]
  },
  {
   "cell_type": "code",
   "execution_count": null,
   "id": "854a75aa",
   "metadata": {},
   "outputs": [],
   "source": []
  }
 ],
 "metadata": {
  "kernelspec": {
   "display_name": "Python 3",
   "language": "python",
   "name": "python3"
  },
  "language_info": {
   "codemirror_mode": {
    "name": "ipython",
    "version": 3
   },
   "file_extension": ".py",
   "mimetype": "text/x-python",
   "name": "python",
   "nbconvert_exporter": "python",
   "pygments_lexer": "ipython3",
   "version": "3.8.8"
  },
  "toc": {
   "base_numbering": 1,
   "nav_menu": {},
   "number_sections": true,
   "sideBar": true,
   "skip_h1_title": false,
   "title_cell": "Table of Contents",
   "title_sidebar": "Contents",
   "toc_cell": false,
   "toc_position": {},
   "toc_section_display": true,
   "toc_window_display": false
  }
 },
 "nbformat": 4,
 "nbformat_minor": 5
}
