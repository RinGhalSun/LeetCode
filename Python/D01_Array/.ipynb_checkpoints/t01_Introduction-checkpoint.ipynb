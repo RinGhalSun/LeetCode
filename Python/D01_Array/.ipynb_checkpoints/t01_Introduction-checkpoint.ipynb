{
 "cells": [
  {
   "cell_type": "markdown",
   "id": "bbd47467",
   "metadata": {},
   "source": [
    "# Max Consecutive Ones\n",
    "Given a number array `nums`, return *the maximum number of consecutive `1`s in the array* "
   ]
  },
  {
   "cell_type": "code",
   "execution_count": 6,
   "id": "1af48edf",
   "metadata": {
    "ExecuteTime": {
     "end_time": "2021-12-01T15:58:58.976742Z",
     "start_time": "2021-12-01T15:58:58.968741Z"
    }
   },
   "outputs": [],
   "source": [
    "def findMaxConsecutiveOnes(nums):\n",
    "    count = 0\n",
    "    maxCount = 0\n",
    "    for i in range (0, len(nums)):\n",
    "        if (nums[i] == 1):\n",
    "            count += 1\n",
    "        else:\n",
    "            maxCount = max(maxCount, count)\n",
    "            count = 0\n",
    "    return max(count, maxCount)"
   ]
  },
  {
   "cell_type": "code",
   "execution_count": 7,
   "id": "650d7923",
   "metadata": {
    "ExecuteTime": {
     "end_time": "2021-12-01T15:58:59.449583Z",
     "start_time": "2021-12-01T15:58:59.441581Z"
    }
   },
   "outputs": [
    {
     "data": {
      "text/plain": [
       "3"
      ]
     },
     "execution_count": 7,
     "metadata": {},
     "output_type": "execute_result"
    }
   ],
   "source": [
    "list1 = [1,1,0,1,1,1]\n",
    "\n",
    "findMaxConsecutiveOnes(list1)"
   ]
  },
  {
   "cell_type": "markdown",
   "id": "1cd93d8d",
   "metadata": {},
   "source": [
    "#  Find Numbers with Even Number of Digits\n",
    "Given an array `nums` of integers, return how many of them contain an **Even Number** of digits.\n",
    "\n",
    "输出偶数位数的数字"
   ]
  },
  {
   "cell_type": "code",
   "execution_count": 17,
   "id": "a2a4e67d",
   "metadata": {
    "ExecuteTime": {
     "end_time": "2021-12-01T16:18:43.610831Z",
     "start_time": "2021-12-01T16:18:43.592320Z"
    }
   },
   "outputs": [
    {
     "data": {
      "text/plain": [
       "1"
      ]
     },
     "execution_count": 17,
     "metadata": {},
     "output_type": "execute_result"
    }
   ],
   "source": [
    "nums = [555,901,482,1771]\n",
    "\n",
    "def findNumbersWithEvenDigits(nums):\n",
    "    count = 0\n",
    "    for i in range(len(nums)):\n",
    "        ni = nums[i]\n",
    "        digit = 1\n",
    "        \n",
    "        while(ni >= 10):\n",
    "            ni /= 10\n",
    "            digit += 1\n",
    "        \n",
    "        if (digit % 2 == 0):\n",
    "            count += 1\n",
    "    return count\n",
    "findNumbersWithEvenDigits(nums)"
   ]
  },
  {
   "cell_type": "markdown",
   "id": "d6ac4f1a",
   "metadata": {},
   "source": [
    "# Squares of a Sorted Array\n",
    "Given an integer array `nums` sorted in **non-decreasing** order, return *an array of * **the squares of each number** *sorted in non-decreasing order."
   ]
  },
  {
   "cell_type": "code",
   "execution_count": 23,
   "id": "c501b0ac",
   "metadata": {
    "ExecuteTime": {
     "end_time": "2021-12-01T16:45:48.924416Z",
     "start_time": "2021-12-01T16:45:48.918414Z"
    }
   },
   "outputs": [
    {
     "data": {
      "text/plain": [
       "[4, 9, 9, 49, 121]"
      ]
     },
     "execution_count": 23,
     "metadata": {},
     "output_type": "execute_result"
    }
   ],
   "source": [
    "nums = [-7, -3, 2, 3, 11]\n",
    "\n",
    "def squaredArray(nums):\n",
    "    n = len(nums)\n",
    "    result = [0] * n\n",
    "    left = 0\n",
    "    right = n-1\n",
    "    \n",
    "    for i in range(n):\n",
    "        if (abs(nums[left]) > abs(nums[right])):\n",
    "            result[n-1-i] = nums[left] * nums[left]\n",
    "            left += 1\n",
    "        else:\n",
    "            result[n-1-i] = nums[right] * nums[right]\n",
    "            right -= 1\n",
    "    \n",
    "    return result\n",
    "            \n",
    "squaredArray(nums)\n",
    "    "
   ]
  },
  {
   "cell_type": "code",
   "execution_count": null,
   "id": "293dc107",
   "metadata": {},
   "outputs": [],
   "source": []
  }
 ],
 "metadata": {
  "kernelspec": {
   "display_name": "Python 3",
   "language": "python",
   "name": "python3"
  },
  "language_info": {
   "codemirror_mode": {
    "name": "ipython",
    "version": 3
   },
   "file_extension": ".py",
   "mimetype": "text/x-python",
   "name": "python",
   "nbconvert_exporter": "python",
   "pygments_lexer": "ipython3",
   "version": "3.8.8"
  },
  "toc": {
   "base_numbering": 1,
   "nav_menu": {},
   "number_sections": true,
   "sideBar": true,
   "skip_h1_title": false,
   "title_cell": "Table of Contents",
   "title_sidebar": "Contents",
   "toc_cell": false,
   "toc_position": {},
   "toc_section_display": true,
   "toc_window_display": false
  }
 },
 "nbformat": 4,
 "nbformat_minor": 5
}
