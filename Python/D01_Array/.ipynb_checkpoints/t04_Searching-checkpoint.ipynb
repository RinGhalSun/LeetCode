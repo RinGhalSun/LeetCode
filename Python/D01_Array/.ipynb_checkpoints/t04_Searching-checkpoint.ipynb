{
 "cells": [
  {
   "cell_type": "markdown",
   "id": "8b4ec6cf",
   "metadata": {},
   "source": [
    "# Check if N and Its Double Exist\n",
    "Given an array `arr` of integers, check if there exists two integers `N` and `M` such `N` is the double of M"
   ]
  },
  {
   "cell_type": "code",
   "execution_count": 2,
   "id": "077a95c6",
   "metadata": {
    "ExecuteTime": {
     "end_time": "2021-12-01T21:51:30.079646Z",
     "start_time": "2021-12-01T21:51:30.058642Z"
    }
   },
   "outputs": [
    {
     "data": {
      "text/plain": [
       "True"
      ]
     },
     "execution_count": 2,
     "metadata": {},
     "output_type": "execute_result"
    }
   ],
   "source": [
    "def checkIfExist(arr):\n",
    "    s = set()\n",
    "    for i in arr:\n",
    "        if (i*2 in s) or (i/2 in s):\n",
    "            return True\n",
    "        s.add(i)\n",
    "    return False\n",
    "\n",
    "arr = [2,9,3,7,6]\n",
    "\n",
    "checkIfExist(arr)"
   ]
  },
  {
   "cell_type": "markdown",
   "id": "10eb6121",
   "metadata": {},
   "source": [
    "## Comment\n",
    "    * Python的set()为一个不重复无序元素集\n",
    "    * 可以用`in`函数来判断"
   ]
  },
  {
   "cell_type": "markdown",
   "id": "b7a2c197",
   "metadata": {},
   "source": [
    "# Valid Mountain Array\n",
    "Given an array of integers `arr`, return *`true` if and only if it is a valid mountain array*.\n",
    "\n",
    "Recall that arr is a mountain array if and only if:\n",
    "\n",
    "> `arr.length >= 3`\n",
    "\n",
    "> There exists some `i` with `0 < i < arr.length-1` such that:\n",
    "\n",
    "* `arr[0] < arr[1] < ... < arr[i-1] < arr[i]`\n",
    "\n",
    "<img src = \"https://assets.leetcode.com/uploads/2019/10/20/hint_valid_mountain_array.png\" style = \"height:350px\">"
   ]
  },
  {
   "cell_type": "code",
   "execution_count": 5,
   "id": "bd948872",
   "metadata": {
    "ExecuteTime": {
     "end_time": "2021-12-01T22:39:33.826600Z",
     "start_time": "2021-12-01T22:39:33.815598Z"
    }
   },
   "outputs": [
    {
     "data": {
      "text/plain": [
       "False"
      ]
     },
     "execution_count": 5,
     "metadata": {},
     "output_type": "execute_result"
    }
   ],
   "source": [
    "def mountain(arr):\n",
    "    n = len(arr)\n",
    "    i = 1\n",
    "    \n",
    "    # walk up\n",
    "    while (i < n and arr[i-1] < arr[i]):\n",
    "        i += 1\n",
    "    \n",
    "    # peak cannot be the first one\n",
    "    if (i == 0 or i == n):\n",
    "        return False\n",
    "    \n",
    "    # walk down\n",
    "    while (i < n and arr[i-1] > arr[i]):\n",
    "        i += 1\n",
    "        \n",
    "    return i == n\n",
    "\n",
    "arr = [1,2,3,3,4,5,1]\n",
    "\n",
    "mountain(arr)"
   ]
  },
  {
   "cell_type": "code",
   "execution_count": null,
   "id": "7c589521",
   "metadata": {},
   "outputs": [],
   "source": []
  }
 ],
 "metadata": {
  "kernelspec": {
   "display_name": "Python 3",
   "language": "python",
   "name": "python3"
  },
  "language_info": {
   "codemirror_mode": {
    "name": "ipython",
    "version": 3
   },
   "file_extension": ".py",
   "mimetype": "text/x-python",
   "name": "python",
   "nbconvert_exporter": "python",
   "pygments_lexer": "ipython3",
   "version": "3.8.8"
  },
  "toc": {
   "base_numbering": 1,
   "nav_menu": {},
   "number_sections": true,
   "sideBar": true,
   "skip_h1_title": false,
   "title_cell": "Table of Contents",
   "title_sidebar": "Contents",
   "toc_cell": false,
   "toc_position": {},
   "toc_section_display": true,
   "toc_window_display": false
  }
 },
 "nbformat": 4,
 "nbformat_minor": 5
}
