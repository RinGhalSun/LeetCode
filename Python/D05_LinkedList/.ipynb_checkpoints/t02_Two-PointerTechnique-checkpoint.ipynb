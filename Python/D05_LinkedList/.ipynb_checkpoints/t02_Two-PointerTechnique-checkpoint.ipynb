{
 "cells": [
  {
   "cell_type": "markdown",
   "id": "d283b419",
   "metadata": {},
   "source": [
    "# Two-Pointer in Linked List\n",
    "let's start with a classic problem:\n",
    "\n",
    "> Given a linked list, determine if it has a cycle in it.\n",
    "\n",
    "You might have come up with the solution using the `hash table`. But there is a more efficient solution using `the two-pointer technique`. Try to think it over by yourself before reading the remaining content.\n",
    "\n",
    "Imagine there are two runners with different speed. If they are running on a straight path,the fast runner will first arrive at the destination. However, if they are running on a circular track, the fast runner will catch up with the slow runner if they keep running.\n",
    "\n",
    "That's exactly what we will come across using two pointers with different speed in a linked list:\n",
    "\n",
    "1. `If there is no cycle, the fast pointer will stop at the end of the linked list.`\n",
    "2. `If there is a cycle, the fast pointer will eventually meet with the slow pointer.`\n",
    "\n",
    "So the only remaining problem is:\n",
    "\n",
    "> What should be the proper speed for the two pointer?\n",
    "\n",
    "It is a safe choice to move the slow pointer `one step` at a time while moving the fast pointer `two steps` at a time. For each iteration, the fast pointer will move one extra step. If the length of cycle is *M* iterations, the faster pointer will definitely move one more cycle and catch up with the slow pointer.\n",
    "\n",
    "> What about other choices> Do they work? Would they be more efficient?"
   ]
  },
  {
   "cell_type": "code",
   "execution_count": 1,
   "id": "e161d425",
   "metadata": {
    "ExecuteTime": {
     "end_time": "2021-12-14T22:25:14.013491Z",
     "start_time": "2021-12-14T22:25:13.990486Z"
    }
   },
   "outputs": [],
   "source": [
    "class ListNode:\n",
    "    def __init__(self, x):\n",
    "        self.val = x\n",
    "        self.next = None\n",
    "\n",
    "class MyLinkedList:\n",
    "    def __init__(self):\n",
    "        self.size = 0\n",
    "        self.head = ListNode(0)  # sentinel node as pseudo-head\n",
    "        \n",
    "\n",
    "    def get(self, index: int) -> int:\n",
    "        \"\"\"\n",
    "        Get the value of the index-th node in the linked list. If the index is invalid, return -1.\n",
    "        \"\"\"\n",
    "        # if index is invalid\n",
    "        if index < 0 or index >= self.size:\n",
    "            return -1\n",
    "        \n",
    "        curr = self.head\n",
    "        # index steps needed \n",
    "        # to move from sentinel node to wanted index\n",
    "        for _ in range(index + 1):\n",
    "            curr = curr.next\n",
    "        return curr.val\n",
    "            \n",
    "\n",
    "    def addAtHead(self, val: int) -> None:\n",
    "        \"\"\"\n",
    "        Add a node of value val before the first element of the linked list. After the insertion, the new node will be the first node of the linked list.\n",
    "        \"\"\"\n",
    "        self.addAtIndex(0, val)\n",
    "        \n",
    "\n",
    "    def addAtTail(self, val: int) -> None:\n",
    "        \"\"\"\n",
    "        Append a node of value val to the last element of the linked list.\n",
    "        \"\"\"\n",
    "        self.addAtIndex(self.size, val)\n",
    "        \n",
    "\n",
    "    def addAtIndex(self, index: int, val: int) -> None:\n",
    "        \"\"\"\n",
    "        Add a node of value val before the index-th node in the linked list. If index equals to the length of linked list, the node will be appended to the end of linked list. If index is greater than the length, the node will not be inserted.\n",
    "        \"\"\"\n",
    "        # If index is greater than the length, \n",
    "        # the node will not be inserted.\n",
    "        if index > self.size:\n",
    "            return\n",
    "        \n",
    "        # [so weird] If index is negative, \n",
    "        # the node will be inserted at the head of the list.\n",
    "        if index < 0:\n",
    "            index = 0\n",
    "        \n",
    "        self.size += 1\n",
    "        # find predecessor of the node to be added\n",
    "        pred = self.head\n",
    "        for _ in range(index):\n",
    "            pred = pred.next\n",
    "            \n",
    "        # node to be added\n",
    "        to_add = ListNode(val)\n",
    "        # insertion itself\n",
    "        to_add.next = pred.next\n",
    "        pred.next = to_add\n",
    "        \n",
    "\n",
    "    def deleteAtIndex(self, index: int) -> None:\n",
    "        \"\"\"\n",
    "        Delete the index-th node in the linked list, if the index is valid.\n",
    "        \"\"\"\n",
    "        # if the index is invalid, do nothing\n",
    "        if index < 0 or index >= self.size:\n",
    "            return\n",
    "        \n",
    "        self.size -= 1\n",
    "        # find predecessor of the node to be deleted\n",
    "        pred = self.head\n",
    "        for _ in range(index):\n",
    "            pred = pred.next\n",
    "            \n",
    "        # delete pred.next \n",
    "        pred.next = pred.next.next"
   ]
  },
  {
   "cell_type": "markdown",
   "id": "145abeb9",
   "metadata": {},
   "source": [
    "# Linked List Cycle\n",
    "Given `head`, the head of a linked list, determine if the linked list has cycle in it.\n",
    "\n",
    "There is a cycle in a linked list if there is some node in the list that can be reach again by continuously following the `next` pointer. Internally (内部的), `pos` is used to denote (表示) the index of the node that tail's `next` pointer is connected to.**Note that `pos` is not passed as parameter**.\n",
    "\n",
    "Return `true` *if there is a cycle in the linked list.* Otherwise, return `false`."
   ]
  },
  {
   "cell_type": "markdown",
   "id": "dcc19a96",
   "metadata": {},
   "source": [
    "## Approach 1: Hash Table"
   ]
  },
  {
   "cell_type": "code",
   "execution_count": 2,
   "id": "e34cd811",
   "metadata": {
    "ExecuteTime": {
     "end_time": "2021-12-14T22:25:14.029116Z",
     "start_time": "2021-12-14T22:25:14.014492Z"
    }
   },
   "outputs": [],
   "source": [
    "def hasCycle(head):\n",
    "    nodes_seen = set()\n",
    "    while head is not None:\n",
    "        if head in nodes_seen:\n",
    "            return True\n",
    "        nodes_seen.add(head)\n",
    "        head = head.next\n",
    "    return False"
   ]
  },
  {
   "cell_type": "code",
   "execution_count": 3,
   "id": "7d14055a",
   "metadata": {
    "ExecuteTime": {
     "end_time": "2021-12-14T22:25:14.045119Z",
     "start_time": "2021-12-14T22:25:14.030116Z"
    }
   },
   "outputs": [
    {
     "data": {
      "text/plain": [
       "True"
      ]
     },
     "execution_count": 3,
     "metadata": {},
     "output_type": "execute_result"
    }
   ],
   "source": [
    "node1 = ListNode(1)\n",
    "node2 = ListNode(2)\n",
    "node1.next = node2\n",
    "node2.next = node1\n",
    "hasCycle(node1)"
   ]
  },
  {
   "cell_type": "markdown",
   "id": "056b7f16",
   "metadata": {},
   "source": [
    "### Complexity analysis\n",
    "Let *n* be the total number of nodes in the linked list.\n",
    "\n",
    "* Time complexity: O(n).\n",
    "* Space complexity: O(n)."
   ]
  },
  {
   "cell_type": "markdown",
   "id": "2d02970e",
   "metadata": {},
   "source": [
    "## Approach 2: Floyd's Cycle Finding Algorithm"
   ]
  },
  {
   "cell_type": "code",
   "execution_count": 4,
   "id": "fb3b91f8",
   "metadata": {
    "ExecuteTime": {
     "end_time": "2021-12-14T22:25:14.061122Z",
     "start_time": "2021-12-14T22:25:14.046119Z"
    }
   },
   "outputs": [
    {
     "data": {
      "text/plain": [
       "True"
      ]
     },
     "execution_count": 4,
     "metadata": {},
     "output_type": "execute_result"
    }
   ],
   "source": [
    "def hasCycle2(head: ListNode) -> bool:\n",
    "    if head is None:\n",
    "        return False\n",
    "    \n",
    "    slow = head\n",
    "    fast = head.next\n",
    "    while slow != fast:\n",
    "        if fast is None or fast.next is None:\n",
    "            return False\n",
    "        slow = slow.next\n",
    "        fast = fast.next.next\n",
    "    return True\n",
    "\n",
    "hasCycle2(node1)"
   ]
  },
  {
   "cell_type": "markdown",
   "id": "9dbb3b33",
   "metadata": {},
   "source": [
    "### Complexity analysis\n",
    "* Time complexity: O(n)\n",
    "* Space complexity: O(1)"
   ]
  },
  {
   "cell_type": "markdown",
   "id": "30420436",
   "metadata": {},
   "source": [
    "# Linked List Cycle II\n",
    "Given the `head` of a linked list, return *the node where the cycle begins. If there is no cycle return `null`*.\n",
    "\n",
    "There is a cycle in a linked list if there is some node in the list can be reached again by continuously following the `next` pointer. Internally, `pos` is used to denote the index of the node that tail's `next` pointer is connected to (**0-indexed**). It is `-1` if there is no cycle. **Note that `pos` is not passed as a parameter**.\n",
    "\n",
    "**Do not modify** the linked list."
   ]
  },
  {
   "cell_type": "markdown",
   "id": "3ec8ef5e",
   "metadata": {},
   "source": [
    "## Approach 1: Hash Table\n",
    "First, we allocate a `set` to store `ListNode` references. Then, we traverse the list, checking `visited` for containment of the current node. If the node has already been seen, then it is necessarily (必然) the entrance to the cycle. If any other node were the entrance to the cycle, then we would have already returned that node instead. Otherwise, the `if` condition will never be satisfied, and our function will return `null`.\n",
    "\n",
    "The algorithm necessarily terminates for any list with a finite (有限的) number of nodes, as the domain of input lists can be divided into two categories: cyclic and acyclic list. An acyclic list resembles (与...相似) a `null`-terminated chain of nodes, while a cyclic list can be thought of as an acyclic list with the final `null` replaced by a reference to some previous node. If the `while` loop terminates, we return `null`, as we have traversed the entire list without encountering a duplicate reference. In this case, the list is acyclic. For a cyclic list, the `while` loop will never terminate, but at some point the `if` condition will be satisfied and cause the function to return."
   ]
  },
  {
   "cell_type": "code",
   "execution_count": 5,
   "id": "3ce66d37",
   "metadata": {
    "ExecuteTime": {
     "end_time": "2021-12-14T22:25:14.077208Z",
     "start_time": "2021-12-14T22:25:14.062122Z"
    }
   },
   "outputs": [
    {
     "data": {
      "text/plain": [
       "<__main__.ListNode at 0x2ab2d988dc0>"
      ]
     },
     "execution_count": 5,
     "metadata": {},
     "output_type": "execute_result"
    }
   ],
   "source": [
    "def detectCycle(head):\n",
    "    visited = set()\n",
    "    \n",
    "    node = head\n",
    "    while node is not None:\n",
    "        if node in visited:\n",
    "            return node\n",
    "        else:\n",
    "            visited.add(node)\n",
    "            node = node.next\n",
    "            \n",
    "    \n",
    "    return None\n",
    "\n",
    "detectCycle(node1)"
   ]
  },
  {
   "cell_type": "markdown",
   "id": "b5c0edac",
   "metadata": {},
   "source": [
    "## Approach 2: Floyd's Tortoise and Hare 龟兔赛跑\n",
    "### Algorithm\n",
    "Floyd's algorithm is separated into two distinct `phases`. In the first phase, it deter,oms whether a cycle is present in the list. If no cycle is present, it returns `null` immediately, as it is impossible to find the entrance to a non-existent cycle. Otherwise, it uses the located \"intersection 交叉 node\" to find the entrance to the cycle.\n",
    "\n",
    "*Phase 1*\n",
    "\n",
    "Here, we initialize two pointers - the fast `hare` and the slow `tortoise`. Then, until `hare` can no longer advance, we increment `tortoise` once and `hare` twice. If, after advancing them, `hare` and `tortoise` point to the same node, we return it. Otherwise, we continue. If the `while` loop terminates without returning a node, then the list is a acyclic, and we return `null` to indicate as much.\n",
    "\n",
    "<img src=\"https://leetcode.com/problems/linked-list-cycle-ii/Figures/142/Slide1.PNG\" style=\"height:300px\">\n",
    "\n",
    "Here, the nodes in the cycle have been labelled form 0 to $C -1$, where $C$ is the length of the cycle. The noncyclic nodes have been labbeled from $-F$ to $-1$, where $F$ is the number of nodes outside of the cycle. After $F$ iterations, `tortoise` points to node 0 and `hare` points to some node *h*, where $F \\equiv h (mod C)$.\n",
    "\n",
    "> (即给定一个知正整数$C$，如果两个整数$F$和$h$满足$F-h$能被$C$整除，即$(F-h)mod C=0$,那么就称整数$F$与$h$对模$C$同余，记作$F \\equiv h(mod C)$，同时可成立$F\\ mod \\ C=h$。) \n",
    "\n",
    "This is because `hare` traverses $2F$ nodes over the course of $F$ iterations, exactly $F$ of which are in the cycle. After $C\\ -\\ h$ more iterations, `tortoise` obviously points to node $C\\ -\\ h$, but (less obviously) `hare` also points to the same node. To see why, remember that `hare` traverses $2(C\\ -\\ h)$ from its staring position of h:\n",
    "$$ h\\ +\\ 2(C\\ -\\ h) = 2C\\ -\\ h$$\n",
    "$$\\ \\ \\ \\ \\ \\ \\ \\ \\ \\ \\ \\ \\ \\ \\ \\ \\ \\ \\ \\ \\ \\ \\ \\ \\ \\ \\ \\ \\ \\ \\ \\ \\ \\ \\ \\ \\ \\ \\equiv C\\ -\\ h\\ (mod\\ C) $$\n",
    "\n",
    "Therefore, given that the list is cyclic, `hare` and `tortoise` will eventually both point to the same node, known henceforth(从此之后) as *intersection*.\n",
    "\n",
    "*Phase 2*\n",
    "\n",
    "Given that phase 1 finds an intersection, phase 2 proceeds to find the node that is the entrance to the cycle. To do so, we initialize two more pointers: `ptr1`, which points to the head of the list, and `ptr2`, which points to the intersection. Then, we advance each of them by 1 until they meet; the node where they neet is the entrance to the cycle, so we return it.\n",
    "\n",
    "<img src=\"https://leetcode.com/problems/linked-list-cycle-ii/Figures/142/diagram.png\" style=\"height:300px\">\n",
    "\n",
    "We can harness (控制并利用) the fact that `hare` moves twice as quickly as `tortoise` to assert that when `hare` and `tortoise` meet at node *h*, `hare` has traversed twice as many nodes. Using this fact, we deduce (推断) the following:\n",
    "\n",
    "To compute the intersection point, let's note that the hare has traversed twice as many nodes as the tortoise, *i.e.* $2d(tortoise)\\ =\\ d(hare)$, that means\n",
    "\n",
    "$$ 2(F\\ +\\ a)\\ =\\ F\\ +\\ nC\\ + a$$\n",
    "\n",
    "> Hence the coordinate (协调,配合) of the intersection point is $F\\ +\\ a\\ =\\ nC$"
   ]
  },
  {
   "cell_type": "code",
   "execution_count": 6,
   "id": "f4e2c29f",
   "metadata": {
    "ExecuteTime": {
     "end_time": "2021-12-14T22:25:14.092211Z",
     "start_time": "2021-12-14T22:25:14.078208Z"
    }
   },
   "outputs": [],
   "source": [
    "def getIntersect(head):\n",
    "    tortoise = head\n",
    "    hare = head\n",
    "    \n",
    "    while hare is not None and hare.next is not None:\n",
    "        tortoise = tortoise.next\n",
    "        hare = hare.next.next\n",
    "        if tortoise == hare:\n",
    "            return tortoise\n",
    "        \n",
    "    return None\n",
    "\n",
    "def detectCycle(head):\n",
    "    if head is None:\n",
    "        return None\n",
    "    \n",
    "    intersect = self.getIntersect(head)\n",
    "    if intersect is None:\n",
    "        return None\n",
    "    \n",
    "    ptr1 = head\n",
    "    ptr2 = intersect\n",
    "    while ptr1 != pt2:\n",
    "        ptr1 = ptr1.next\n",
    "        ptr2 = ptr2.next\n",
    "        \n",
    "    return ptr1"
   ]
  },
  {
   "cell_type": "markdown",
   "id": "f35fab45",
   "metadata": {},
   "source": [
    "### Complexity\n",
    "* Time Complexity: O(n)\n",
    "* Space Complexity: O(1)\n",
    "\n",
    "### Comment\n",
    "非常有趣,值得反复观看!"
   ]
  },
  {
   "cell_type": "markdown",
   "id": "5108e6c1",
   "metadata": {},
   "source": [
    "# Intersection of Two Linked Lists\n",
    "Given the heads of two singly linked-lists `headA` and `headB`, return *the node at which the two lists intersect*. If the two linked lists have no intersection at all, return `null`.\n",
    "\n",
    "For example, the following two linked lists begin intersect at node `c1`:\n",
    "\n",
    "<img src=\"https://assets.leetcode.com/uploads/2021/03/05/160_statement.png\" style=\"height: 150px\">\n",
    "\n",
    "**Note** that the linked list must **retain their original structure** after the function returns."
   ]
  },
  {
   "cell_type": "markdown",
   "id": "dd40b52c",
   "metadata": {},
   "source": [
    "## Approach 1: Hash table"
   ]
  },
  {
   "cell_type": "code",
   "execution_count": 7,
   "id": "0a1f0492",
   "metadata": {
    "ExecuteTime": {
     "end_time": "2021-12-14T22:25:14.108215Z",
     "start_time": "2021-12-14T22:25:14.093211Z"
    }
   },
   "outputs": [],
   "source": [
    "def getIntersectionNode(self, headA: ListNode, headB: ListNode) -> ListNode:\n",
    "    nodes_in_B = set()\n",
    "    \n",
    "    while headB is not None:\n",
    "        nodes_in_B.add(headB)\n",
    "        headB = headB.next\n",
    "        \n",
    "    while headA is not None:\n",
    "        if headA in nodes_in_B:\n",
    "            return headA\n",
    "        headA = headA.next\n",
    "        \n",
    "    return None"
   ]
  },
  {
   "cell_type": "markdown",
   "id": "61484614",
   "metadata": {},
   "source": [
    "## Approach 2: Two Pointers\n",
    "> Interview Tip: This approach is essentially a \"medium\" solution to an \"easy\" problem. Note that Hash Table is *probably* sufficient for an interview if you are fairly new to programming. If you're more experienced, it might also be sufficient, but your safest bet would be also know this approach, and to be able to apply this intuition (直觉) behind it to similar problems.\n",
    "\n",
    "这个方法的核心在于两条LinkedList长度相加的情况下,无论是p1还是p2经过遍历后总会在一个点相遇.\n",
    "\n",
    "<img src=\"https://leetcode.com/problems/intersection-of-two-linked-lists/Figures/160/image4.png\" style=\"height:150px\">\n",
    "\n",
    "> 假设share的长度为$c$, `headA`长度为$a+c$,`headB`长度为$b+c$,那么当`p1`和`p2`相遇时$a\\ +\\ c\\ +\\ b\\ =\\ b\\ +\\ c\\ + a$. `headA`+`headB`长度总和为$a + c + b + c$,而这意味着,重合的点正好停在了$c$的起始.\n",
    "\n",
    "In code, we could write this algorithm with 4 loops, one after the other, each doing the following:\n",
    "\n",
    "1. Calculate N: the length of list A.\n",
    "2. Calculate M: the length of list B.\n",
    "3. Set the start point for the *longer* list.\n",
    "4. Step the pointer through the list together.\n",
    "\n",
    "### Algorithm\n",
    "* Set pointer `pA` to point at `headA`\n",
    "* Set pointer `pB` to point at `headB`\n",
    "* While `pA` and `pB` are not pointing at the same node:\n",
    "    * if `pA` is pointing to a null, set `pA` to point to `headB`.\n",
    "    * Else, set `pA` to point at `pA.next`.\n",
    "    * If `pB` is pointing to a null, set `pB` to point to `headA`.\n",
    "    * Else, set `pB` to point at `pB.next`.\n",
    "* return the value pointed to by `pA` (or by `pB`; they're the same now)."
   ]
  },
  {
   "cell_type": "code",
   "execution_count": 8,
   "id": "12e9356f",
   "metadata": {
    "ExecuteTime": {
     "end_time": "2021-12-14T22:25:14.123218Z",
     "start_time": "2021-12-14T22:25:14.110215Z"
    }
   },
   "outputs": [],
   "source": [
    "def getIntersectionNode2(self, headA: ListNode, headB: ListNode) -> ListNode:\n",
    "    p1 = headA\n",
    "    p2 = headB\n",
    "    \n",
    "    while p1 != p2:\n",
    "        if p1 is None:\n",
    "            p1 = headB\n",
    "        else:\n",
    "            p1 = p1.next\n",
    "            # p1 = headB is p1 is None else p1.next\n",
    "            #这么写更牛逼点\n",
    "        \n",
    "        p2 = headA if p2 is None else p2.next\n",
    "    \n",
    "    return p1"
   ]
  },
  {
   "cell_type": "markdown",
   "id": "aa21af4d",
   "metadata": {},
   "source": [
    "# Remove Nth Node From End of List\n",
    "Given the `head` of a lined list, remove the `nth` node from the end of the list return its head.\n",
    "\n",
    "<img src=\"https://assets.leetcode.com/uploads/2020/10/03/remove_ex1.jpg\" style=\"height:150px\">"
   ]
  },
  {
   "cell_type": "markdown",
   "id": "3d6a3285",
   "metadata": {},
   "source": [
    "## Approach 1: Two Pass Algorithm\n",
    "\n",
    "\n",
    "**Intuition**\n",
    "\n",
    "\n",
    "We notice that the problem could be simply reduced to another one: Remove the $(L-n+1)th$ node from the beginning in the list, where $L$ is the list length. The problem is easy to solve once we found list length L.\n",
    "\n",
    "\n",
    "**Algorithm**\n",
    "\n",
    "\n",
    "First we will add an auxiliary (辅助的) \"dummy\" node, which points to the list head. The \"dummy\" node is used to simplify some corner cases such as a list with only one node, or removing the head of the list. On the first pass, we find the list length $L$. Then we set a pointer to the dummy node and start to move it through the list till it comes to the $(L-n)th$ node. We relink `next` pointer of the $(L-n)th$ node to the $(L-n+2)th$ node and we are done.\n",
    "\n",
    "<img src=\"https://leetcode.com/media/original_images/19_Remove_nth_node_from_end_of_listA.png\" style=\"height:200px\">"
   ]
  },
  {
   "cell_type": "code",
   "execution_count": 13,
   "id": "7c405890",
   "metadata": {
    "ExecuteTime": {
     "end_time": "2021-12-14T23:15:58.030968Z",
     "start_time": "2021-12-14T23:15:58.026976Z"
    }
   },
   "outputs": [],
   "source": [
    "def removeNth(head: ListNode, n: int):\n",
    "    dummy = ListNode(0)\n",
    "    dummy.next = head\n",
    "    length = 0\n",
    "    first = head\n",
    "    \n",
    "    while first is not None:\n",
    "        length += 1\n",
    "        first = first.next\n",
    "        \n",
    "    length -= n\n",
    "    first = dummy\n",
    "    while length > 0:\n",
    "        length -= 1\n",
    "        first = first.next\n",
    "        \n",
    "    first.next = first.next.next\n",
    "    return dummy.next"
   ]
  },
  {
   "cell_type": "markdown",
   "id": "3090a879",
   "metadata": {},
   "source": [
    "## Approach 2: One pass algorithm\n",
    "**Algorithm**\n",
    "\n",
    "The above algorithm could be optimized to one pass. Instead of one pointer, we could use two pointers. The first pointer advances the list by $n+1$ steps from the beginning, while the second pointer starts from the beginning of the list. Now, both pointers are exactly separated by $n$ nodes apart. The second pointer will be pointing at the $nth$ node counting from the last. We relink the next pointer of the node reference by the second pointer to point to the node's next next node.\n",
    "\n",
    "<img src=\"https://leetcode.com/media/original_images/19_Remove_nth_node_from_end_of_listB.png\" style=\"height:600px\">"
   ]
  },
  {
   "cell_type": "code",
   "execution_count": 15,
   "id": "c4192fb3",
   "metadata": {
    "ExecuteTime": {
     "end_time": "2021-12-14T23:38:55.847155Z",
     "start_time": "2021-12-14T23:38:55.840214Z"
    }
   },
   "outputs": [],
   "source": [
    "def removeNth2(head: ListNode, n: int) -> ListNode:\n",
    "    dummy = ListNode(0)\n",
    "    dummy.next = head\n",
    "    first = dummy\n",
    "    second = dummy\n",
    "    \n",
    "    for i in rang(n + 1):\n",
    "        first = first.next\n",
    "    while first is not None:\n",
    "        first = first.next\n",
    "        second = second.next\n",
    "        \n",
    "    second.next = second.next.next\n",
    "    return dummy.next"
   ]
  },
  {
   "cell_type": "markdown",
   "id": "4c9bcec5",
   "metadata": {},
   "source": [
    "# Summary - Two-Pointer in Linked List\n",
    "Here we provide a template for you to solve the two-pointer problem in the linked list.\n",
    "\n",
    "## Tips\n",
    "> It is similar to what we have learned in an array. But it can be trickier and error-prone (容易出错的). There are several things you should pay attention:\n",
    "\n",
    "1. **Always examine if the node is null before you call the next field**\n",
    "\n",
    "Getting the next node of a null node will cause the null-pointer error. For example, before we run `fast = fast.next.next`, we need to examine both `fast` and `fast.next` is not null.\n",
    "\n",
    "2. **Carefully define the end conditions of your loop.**\n",
    "\n",
    "Run several examples to make sure your end conditions will not result in an endless loop. And you have to take our first tip into consideration when you define your end conditions."
   ]
  },
  {
   "cell_type": "code",
   "execution_count": null,
   "id": "0b212e32",
   "metadata": {},
   "outputs": [],
   "source": []
  }
 ],
 "metadata": {
  "kernelspec": {
   "display_name": "Python 3",
   "language": "python",
   "name": "python3"
  },
  "language_info": {
   "codemirror_mode": {
    "name": "ipython",
    "version": 3
   },
   "file_extension": ".py",
   "mimetype": "text/x-python",
   "name": "python",
   "nbconvert_exporter": "python",
   "pygments_lexer": "ipython3",
   "version": "3.8.8"
  },
  "toc": {
   "base_numbering": 1,
   "nav_menu": {},
   "number_sections": true,
   "sideBar": true,
   "skip_h1_title": false,
   "title_cell": "Table of Contents",
   "title_sidebar": "Contents",
   "toc_cell": false,
   "toc_position": {},
   "toc_section_display": true,
   "toc_window_display": false
  },
  "varInspector": {
   "cols": {
    "lenName": 16,
    "lenType": 16,
    "lenVar": 40
   },
   "kernels_config": {
    "python": {
     "delete_cmd_postfix": "",
     "delete_cmd_prefix": "del ",
     "library": "var_list.py",
     "varRefreshCmd": "print(var_dic_list())"
    },
    "r": {
     "delete_cmd_postfix": ") ",
     "delete_cmd_prefix": "rm(",
     "library": "var_list.r",
     "varRefreshCmd": "cat(var_dic_list()) "
    }
   },
   "types_to_exclude": [
    "module",
    "function",
    "builtin_function_or_method",
    "instance",
    "_Feature"
   ],
   "window_display": false
  }
 },
 "nbformat": 4,
 "nbformat_minor": 5
}
