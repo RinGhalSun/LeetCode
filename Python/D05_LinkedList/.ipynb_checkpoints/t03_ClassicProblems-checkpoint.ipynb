{
 "cells": [
  {
   "cell_type": "markdown",
   "id": "eea068d3",
   "metadata": {},
   "source": [
    "# Reverse Linked List\n",
    "> Reverse a singly linked list\n",
    "\n",
    "One solution is to `iterate the nodes in original order and move them to the head of the list one by one`.\n",
    "\n",
    "## Algorithm Overview\n",
    "\n",
    "<img src=\"https://s3-lc-upload.s3.amazonaws.com/uploads/2018/04/14/screen-shot-2018-04-14-at-163143.png\" style=\"height:80px\">\n",
    "\n",
    "1. First, we move the next node of the black node, which is node 6, to the head of the list:\n",
    "\n",
    "<img src=\"https://s3-lc-upload.s3.amazonaws.com/uploads/2018/04/14/screen-shot-2018-04-14-at-163336.png\" style = \"height:70px\">\n",
    "\n",
    "2. Then we move the next node of the black node, which is node 15, to the head of the list:\n",
    "\n",
    "<img src=\"https://s3-lc-upload.s3.amazonaws.com/uploads/2018/04/14/screen-shot-2018-04-14-at-163525.png\" style = \"height:65px\">\n",
    "\n",
    "3. The next node of the black node is now null. So we stop and return our new head node 15.\n",
    "\n",
    "## More\n",
    "\n",
    "In this algorithm, each node will be moved `exactly once`.\n",
    "\n",
    "Therefore, the time complexity is `O(N)`, where N is the length of the linked list."
   ]
  },
  {
   "cell_type": "code",
   "execution_count": 1,
   "id": "ecb8cfbb",
   "metadata": {
    "ExecuteTime": {
     "end_time": "2021-12-15T20:55:03.907138Z",
     "start_time": "2021-12-15T20:55:03.896144Z"
    }
   },
   "outputs": [],
   "source": [
    "class ListNode:\n",
    "    def __init__(self, x):\n",
    "        self.val = x\n",
    "        self.next = None\n",
    "\n",
    "class MyLinkedList:\n",
    "    def __init__(self):\n",
    "        self.size = 0\n",
    "        self.head = ListNode(0)  # sentinel node as pseudo-head\n",
    "        \n",
    "\n",
    "    def get(self, index: int) -> int:\n",
    "        \"\"\"\n",
    "        Get the value of the index-th node in the linked list. If the index is invalid, return -1.\n",
    "        \"\"\"\n",
    "        # if index is invalid\n",
    "        if index < 0 or index >= self.size:\n",
    "            return -1\n",
    "        \n",
    "        curr = self.head\n",
    "        # index steps needed \n",
    "        # to move from sentinel node to wanted index\n",
    "        for _ in range(index + 1):\n",
    "            curr = curr.next\n",
    "        return curr.val\n",
    "            \n",
    "\n",
    "    def addAtHead(self, val: int) -> None:\n",
    "        \"\"\"\n",
    "        Add a node of value val before the first element of the linked list. After the insertion, the new node will be the first node of the linked list.\n",
    "        \"\"\"\n",
    "        self.addAtIndex(0, val)\n",
    "        \n",
    "\n",
    "    def addAtTail(self, val: int) -> None:\n",
    "        \"\"\"\n",
    "        Append a node of value val to the last element of the linked list.\n",
    "        \"\"\"\n",
    "        self.addAtIndex(self.size, val)\n",
    "        \n",
    "\n",
    "    def addAtIndex(self, index: int, val: int) -> None:\n",
    "        \"\"\"\n",
    "        Add a node of value val before the index-th node in the linked list. If index equals to the length of linked list, the node will be appended to the end of linked list. If index is greater than the length, the node will not be inserted.\n",
    "        \"\"\"\n",
    "        # If index is greater than the length, \n",
    "        # the node will not be inserted.\n",
    "        if index > self.size:\n",
    "            return\n",
    "        \n",
    "        # [so weird] If index is negative, \n",
    "        # the node will be inserted at the head of the list.\n",
    "        if index < 0:\n",
    "            index = 0\n",
    "        \n",
    "        self.size += 1\n",
    "        # find predecessor of the node to be added\n",
    "        pred = self.head\n",
    "        for _ in range(index):\n",
    "            pred = pred.next\n",
    "            \n",
    "        # node to be added\n",
    "        to_add = ListNode(val)\n",
    "        # insertion itself\n",
    "        to_add.next = pred.next\n",
    "        pred.next = to_add\n",
    "        \n",
    "\n",
    "    def deleteAtIndex(self, index: int) -> None:\n",
    "        \"\"\"\n",
    "        Delete the index-th node in the linked list, if the index is valid.\n",
    "        \"\"\"\n",
    "        # if the index is invalid, do nothing\n",
    "        if index < 0 or index >= self.size:\n",
    "            return\n",
    "        \n",
    "        self.size -= 1\n",
    "        # find predecessor of the node to be deleted\n",
    "        pred = self.head\n",
    "        for _ in range(index):\n",
    "            pred = pred.next\n",
    "            \n",
    "        # delete pred.next \n",
    "        pred.next = pred.next.next"
   ]
  },
  {
   "cell_type": "markdown",
   "id": "d2cb71b1",
   "metadata": {},
   "source": [
    "# Reverse a Linked List\n",
    "Given the `head` of a singly linked list, reverse the list, and return *the reversed list*.\n",
    "\n",
    "这个问题的核心在于反转\n",
    "\n",
    "> prev = Null, curr = head, 并注意以下几点:\n",
    "\n",
    "1. next = curr.next 将curr之后的Node存入next这个变量中\n",
    "2. curr.next = prev 将本Node指向之前的Node,即prev\n",
    "3. prev = curr 将curr->null这个LinkedList存入prev变量中,并更新prev\n",
    "4. curr = next curr已经存入prev中,curr向后一位\n",
    "5. 改变linkedlist的指向的操作,只有`curr.next`切记\n",
    "6. 因为Python特性,临时变量`next`可以省略,可以用如下写法"
   ]
  },
  {
   "cell_type": "code",
   "execution_count": 12,
   "id": "5da82d47",
   "metadata": {
    "ExecuteTime": {
     "end_time": "2021-12-15T21:55:41.887978Z",
     "start_time": "2021-12-15T21:55:41.872983Z"
    }
   },
   "outputs": [
    {
     "name": "stdout",
     "output_type": "stream",
     "text": [
      "3\n",
      "2\n",
      "1\n"
     ]
    }
   ],
   "source": [
    "def reverseList(head:ListNode) -> ListNode:\n",
    "    prev = None\n",
    "    curr = head\n",
    "    while curr is not None:\n",
    "        curr.next, prev, curr = prev, curr, curr.next\n",
    "        \n",
    "    return prev\n",
    "\n",
    "node1 = ListNode(1)\n",
    "node2 = ListNode(2)\n",
    "node3 = ListNode(3)\n",
    "node1.next = node2\n",
    "node2.next = node3\n",
    "\n",
    "nodeR = reverseList(node1)\n",
    "while nodeR is not None:\n",
    "    print(nodeR.val)\n",
    "    nodeR = nodeR.next"
   ]
  },
  {
   "cell_type": "markdown",
   "id": "83e1432e",
   "metadata": {},
   "source": [
    "## Comment\n",
    "非常经典的题目!需要融汇贯通,之后在Recursive中可以学习另一种写法.\n",
    "\n",
    "https://www.youtube.com/watch?v=mQJOr-_pR_4"
   ]
  },
  {
   "cell_type": "markdown",
   "id": "bd21f619",
   "metadata": {},
   "source": [
    "# Remove Linked List Elements\n",
    "Given the `head` of a linked list and an integer `val`, remove all the nodes of the linked list that has `Node.val == val`, and return *the new head*.\n",
    "\n",
    "> 通过prev.next = curr.next来实现.\n",
    "\n",
    "> 注意需要一个sentinel as a pseudo-head\n",
    "\n",
    "## Algorithm\n",
    "* Initiate a sentinel node as `ListNode(0)` and set it to be the new head: `sentinel.next = head`\n",
    "* Initiate two pointers to track the current node and its predecessor: (被取代的事物) `curr` and `prev`\n",
    "* While `curr` is not a null pointer:\n",
    "    * Compare the value of the current node the value to delete.\n",
    "        * In the values are equal, delete the current node: `prev.next = curr.next\n",
    "        * Otherwise, set predecessor to be equal to the current node.\n",
    "    * Move to the next node: `curr = curr.next`.\n",
    "* Return `sentinel.next`"
   ]
  },
  {
   "cell_type": "code",
   "execution_count": 19,
   "id": "0cd590a3",
   "metadata": {
    "ExecuteTime": {
     "end_time": "2021-12-15T22:13:43.123659Z",
     "start_time": "2021-12-15T22:13:43.109656Z"
    }
   },
   "outputs": [
    {
     "name": "stdout",
     "output_type": "stream",
     "text": [
      "1\n",
      "3\n"
     ]
    }
   ],
   "source": [
    "def removeElements(head: ListNode, val: int) -> ListNode:\n",
    "    sentinel = ListNode(0)\n",
    "    sentinel.next = head\n",
    "    \n",
    "    prev, curr = sentinel, head\n",
    "    while curr:\n",
    "        if curr.val == val:\n",
    "            prev.next = curr.next\n",
    "        else:\n",
    "            prev = curr\n",
    "        curr = curr.next\n",
    "    \n",
    "    return sentinel.next\n",
    "    \n",
    "    \n",
    "node1, node2, node3, node4 = ListNode(1), ListNode(2), ListNode(3), ListNode(2),  \n",
    "node1.next = node2\n",
    "node2.next = node3\n",
    "node3.next = node4\n",
    "nodeR1 = removeElements(node1, 2)\n",
    "while nodeR1:\n",
    "    print(nodeR1.val)\n",
    "    nodeR1 = nodeR1.next"
   ]
  },
  {
   "cell_type": "markdown",
   "id": "08a60092",
   "metadata": {},
   "source": [
    "# Odd Even Linked List\n",
    "Given the `head` of a singly linked list, group all the nodes with odd indices together followed by the nodes with even indices, and return *the reordered list*.\n",
    "\n",
    "The **first** node is considered **odd**, and the **second** node is **even**, and so on.\n",
    "\n",
    "Note that the relative order inside both the even and odd groups should remain as it was in the input.\n",
    "\n",
    "## Algorithm\n",
    "\n",
    "<img src=\"https://leetcode.com/problems/odd-even-linked-list/Figures/328_Odd_Even.svg\" style = \"height:600px\">"
   ]
  },
  {
   "cell_type": "code",
   "execution_count": 2,
   "id": "cf1df07e",
   "metadata": {
    "ExecuteTime": {
     "end_time": "2021-12-26T07:24:05.469386Z",
     "start_time": "2021-12-26T07:24:05.456390Z"
    }
   },
   "outputs": [],
   "source": [
    "def oddEven(head):\n",
    "    if head is None:\n",
    "        return None\n",
    "    \n",
    "    odd = head\n",
    "    even = head.next\n",
    "    evenHead = even\n",
    "    \n",
    "    while even is not None and even.next is not None:\n",
    "        odd.next = even.next\n",
    "        odd = odd.next\n",
    "        even.next = odd.next\n",
    "        even = even.next\n",
    "        \n",
    "    odd.next = evenHead\n",
    "    return head"
   ]
  },
  {
   "cell_type": "markdown",
   "id": "c55f5038",
   "metadata": {},
   "source": [
    "# Palindrome (回文) Linked List\n",
    "Given the `head` of a singly linked list, return `true` if it is a palindrome.\n",
    "\n",
    "## Algorithm\n",
    "\n",
    "### Approach 1: Copy into Array List and then Use Two Pointer Technique\n",
    "Time O(N)\n",
    "Space O(N)"
   ]
  },
  {
   "cell_type": "code",
   "execution_count": 1,
   "id": "031b3c72",
   "metadata": {
    "ExecuteTime": {
     "end_time": "2022-01-04T18:08:56.881382Z",
     "start_time": "2022-01-04T18:08:56.867379Z"
    }
   },
   "outputs": [],
   "source": [
    "def isPalindrome(head):\n",
    "    vals = []\n",
    "    current_node = head\n",
    "    while current_node is not None:\n",
    "        vals.append(current_node.val)\n",
    "        current_node = current_node.next\n",
    "    return vals == vals[::-1]"
   ]
  },
  {
   "cell_type": "markdown",
   "id": "ea00dc3d",
   "metadata": {},
   "source": [
    "### Approach 3: Reverse Second Half In-place\n",
    "\n",
    "1. Find the end of the first half (fast and slow runner)\n",
    "2. Reverse the second half\n",
    "3. Determine whether or not there is a palindrome.\n",
    "4. Restore the list.\n",
    "5. Return the result."
   ]
  },
  {
   "cell_type": "code",
   "execution_count": 3,
   "id": "78cb7a8f",
   "metadata": {
    "ExecuteTime": {
     "end_time": "2022-01-04T18:34:15.842736Z",
     "start_time": "2022-01-04T18:34:15.830733Z"
    }
   },
   "outputs": [],
   "source": [
    "def isPalindrome2(head):\n",
    "    if head is None:\n",
    "        return True\n",
    "    \n",
    "    # Find the end of first half and reverse second half\n",
    "    first_half_end = self.end_of_first_half(head)\n",
    "    second_half_start = self.reverse_list(first_half_end.next)\n",
    "    \n",
    "    # Check whether or not there's a palidrome\n",
    "    result = True\n",
    "    first_position = head\n",
    "    second_position = second_half_start\n",
    "    while result and second_position is not None:\n",
    "        if first_position.val != second_position.val:\n",
    "            result = False\n",
    "        first_position = first_position.next\n",
    "        second_position = second_position.next\n",
    "    return result\n",
    "\n",
    "def reverse_list(head):\n",
    "    prev = None\n",
    "    curr = head\n",
    "    while curr is not None:\n",
    "        curr.next, prev, curr = prev, curr, curr.next\n",
    "    return prev\n",
    "\n",
    "def end_of_first_half(head):\n",
    "    fast = head\n",
    "    slow = head\n",
    "    while fast.next is not None and fast.next.next is not None:\n",
    "        fast = fast.next.next\n",
    "        slow = slow.next\n",
    "    return slow"
   ]
  },
  {
   "cell_type": "markdown",
   "id": "beb0b3d3",
   "metadata": {},
   "source": [
    "### Approach 2: Recursive\n",
    "This part for later"
   ]
  },
  {
   "cell_type": "code",
   "execution_count": null,
   "id": "97e2f449",
   "metadata": {},
   "outputs": [],
   "source": []
  }
 ],
 "metadata": {
  "kernelspec": {
   "display_name": "Python 3",
   "language": "python",
   "name": "python3"
  },
  "language_info": {
   "codemirror_mode": {
    "name": "ipython",
    "version": 3
   },
   "file_extension": ".py",
   "mimetype": "text/x-python",
   "name": "python",
   "nbconvert_exporter": "python",
   "pygments_lexer": "ipython3",
   "version": "3.8.8"
  },
  "toc": {
   "base_numbering": 1,
   "nav_menu": {},
   "number_sections": true,
   "sideBar": true,
   "skip_h1_title": false,
   "title_cell": "Table of Contents",
   "title_sidebar": "Contents",
   "toc_cell": false,
   "toc_position": {},
   "toc_section_display": true,
   "toc_window_display": false
  },
  "varInspector": {
   "cols": {
    "lenName": 16,
    "lenType": 16,
    "lenVar": 40
   },
   "kernels_config": {
    "python": {
     "delete_cmd_postfix": "",
     "delete_cmd_prefix": "del ",
     "library": "var_list.py",
     "varRefreshCmd": "print(var_dic_list())"
    },
    "r": {
     "delete_cmd_postfix": ") ",
     "delete_cmd_prefix": "rm(",
     "library": "var_list.r",
     "varRefreshCmd": "cat(var_dic_list()) "
    }
   },
   "types_to_exclude": [
    "module",
    "function",
    "builtin_function_or_method",
    "instance",
    "_Feature"
   ],
   "window_display": false
  }
 },
 "nbformat": 4,
 "nbformat_minor": 5
}
