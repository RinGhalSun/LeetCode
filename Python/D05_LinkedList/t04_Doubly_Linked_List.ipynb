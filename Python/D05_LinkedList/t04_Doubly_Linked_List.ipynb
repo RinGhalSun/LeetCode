{
 "cells": [
  {
   "cell_type": "markdown",
   "id": "60d0c54c",
   "metadata": {},
   "source": [
    "# Introduction - Doubly Linked List\n",
    "\n",
    "## Definition\n",
    "The doubly linked list works in a similar way but has `one more reference field` which is known as `the \"prev\" field`. With this extra field, you can able to know the previous node of the current node.\n",
    "\n",
    "Let's take a look at an example:\n",
    "\n",
    "<img src=\"https://s3-lc-upload.s3.amazonaws.com/uploads/2018/04/17/screen-shot-2018-04-17-at-161130.png\" style = \"height:60px\">\n",
    "\n",
    "The green arrows indicate how our \"prev\" field works.\n",
    "\n",
    "## Operations\n",
    "Similar to a singly linked list, we will introduce how to access data, insert a new node or delete an existing node in a doubly linked list.\n",
    "\n",
    "We can access data in the same exact way as in a singly linked list:\n",
    "\n",
    "1. We are `not able to access a random position` in constant time.\n",
    "2. We have to `traverse from the head` to get the `i-th` node we want.\n",
    "3. The time complexity in the worse case will be `O(N)`, where `N` is the length of the linked list."
   ]
  },
  {
   "cell_type": "markdown",
   "id": "f76a515c",
   "metadata": {},
   "source": [
    "# Add Operation - Doubly Linked List\n",
    "If we want to insert a new node `cur` after an existing node `prev`, we can divide this process into two steps:\n",
    "\n",
    "1.  Link `cur` with `prev` and `next`, where `next` is the original next node of `prev`; <img src=\"https://s3-lc-upload.s3.amazonaws.com/uploads/2018/04/28/screen-shot-2018-04-28-at-173045.png\" style = \"height:120px\">\n",
    "2. Re-link the `prev` and `next` with `cur`. <img src=\"https://s3-lc-upload.s3.amazonaws.com/uploads/2018/04/29/screen-shot-2018-04-28-at-173055.png\" style=\"height:120px\">\n",
    "\n",
    "Similar to the singly linked list, both the time and the space complexity of the add operation are `O(1)`"
   ]
  },
  {
   "cell_type": "markdown",
   "id": "efe3b84d",
   "metadata": {},
   "source": [
    "# Delete Operation - Doubly Linked List\n",
    "If we want to delete an existing node `cur` from the doubly linked list, we can simply link its previous node `prev` with its next node `next`.\n",
    "\n",
    "    Unlike the singly linked list, it is easy to get the previous node in constant time with the \"prev\" field\n",
    "    \n",
    "Since we no longer need to traverse the linked list to get the previous node, both the time and space complexity are `O(1)`."
   ]
  },
  {
   "cell_type": "code",
   "execution_count": 1,
   "id": "8029b723",
   "metadata": {
    "ExecuteTime": {
     "end_time": "2022-01-04T19:29:46.740813Z",
     "start_time": "2022-01-04T19:29:46.722808Z"
    }
   },
   "outputs": [],
   "source": [
    "class MyLinkedList:\n",
    "\n",
    "    def __init__(self):\n",
    "        self.size = 0\n",
    "        self.head = ListNode(0)\n",
    "        \n",
    "\n",
    "    def get(self, index: int) -> int:\n",
    "        if index < 0 or index >= self.size:\n",
    "            return -1\n",
    "        \n",
    "        curr = self.head\n",
    "        \n",
    "        for _ in range(index + 1):\n",
    "            curr = curr.next\n",
    "        return curr.val\n",
    "\n",
    "    def addAtHead(self, val: int) -> None:\n",
    "        \n",
    "        self.addAtIndex(0, val)\n",
    "\n",
    "    def addAtTail(self, val: int) -> None:\n",
    "        \n",
    "        self.addAtIndex(self.size, val)\n",
    "\n",
    "    def addAtIndex(self, index: int, val: int) -> None:\n",
    "        \n",
    "        # If index is greater than the length\n",
    "        # the mode will not be inserted.\n",
    "        if index > self.size:\n",
    "            return\n",
    "        \n",
    "        # If index is negative\n",
    "        # the node will be inserted at the head of the list.\n",
    "        if index < 0:\n",
    "            index = 0\n",
    "        \n",
    "        self.size += 1\n",
    "        \n",
    "        # find predecessor of the node to be added\n",
    "        pred = self.head\n",
    "        for _ in range(index):\n",
    "            pred = pred.next\n",
    "        \n",
    "        # node to be added\n",
    "        to_add = ListNode(val)\n",
    "        # insertion itself\n",
    "        to_add.next = pred.next\n",
    "        pred.next = to_add\n",
    "\n",
    "    def deleteAtIndex(self, index: int) -> None:\n",
    "        # if the index is invalid, do nothing\n",
    "        if index < 0 or index >= self.size:\n",
    "            return\n",
    "        \n",
    "        self.size -= 1\n",
    "        \n",
    "        # find predecessor of the node to be deleted\n",
    "        pred = self.head\n",
    "        for _ in range(index):\n",
    "            pred = pred.next\n",
    "            \n",
    "        pred.next = pred.next.next"
   ]
  },
  {
   "cell_type": "code",
   "execution_count": null,
   "id": "8bf8d966",
   "metadata": {},
   "outputs": [],
   "source": []
  }
 ],
 "metadata": {
  "kernelspec": {
   "display_name": "Python 3",
   "language": "python",
   "name": "python3"
  },
  "language_info": {
   "codemirror_mode": {
    "name": "ipython",
    "version": 3
   },
   "file_extension": ".py",
   "mimetype": "text/x-python",
   "name": "python",
   "nbconvert_exporter": "python",
   "pygments_lexer": "ipython3",
   "version": "3.8.8"
  },
  "toc": {
   "base_numbering": 1,
   "nav_menu": {},
   "number_sections": true,
   "sideBar": true,
   "skip_h1_title": false,
   "title_cell": "Table of Contents",
   "title_sidebar": "Contents",
   "toc_cell": false,
   "toc_position": {},
   "toc_section_display": true,
   "toc_window_display": false
  },
  "varInspector": {
   "cols": {
    "lenName": 16,
    "lenType": 16,
    "lenVar": 40
   },
   "kernels_config": {
    "python": {
     "delete_cmd_postfix": "",
     "delete_cmd_prefix": "del ",
     "library": "var_list.py",
     "varRefreshCmd": "print(var_dic_list())"
    },
    "r": {
     "delete_cmd_postfix": ") ",
     "delete_cmd_prefix": "rm(",
     "library": "var_list.r",
     "varRefreshCmd": "cat(var_dic_list()) "
    }
   },
   "types_to_exclude": [
    "module",
    "function",
    "builtin_function_or_method",
    "instance",
    "_Feature"
   ],
   "window_display": false
  }
 },
 "nbformat": 4,
 "nbformat_minor": 5
}
