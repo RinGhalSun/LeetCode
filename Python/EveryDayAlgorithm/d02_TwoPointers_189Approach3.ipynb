{
 "cells": [
  {
   "cell_type": "markdown",
   "id": "29cc750e",
   "metadata": {},
   "source": [
    "# 977. Squares of a Sorted Array\n",
    "___\n",
    "> Input: nums = [-4,-1,0,3,10]\n",
    "> Output: [0,1,9,16,100]"
   ]
  },
  {
   "cell_type": "code",
   "execution_count": 1,
   "id": "fb1cf7ba",
   "metadata": {
    "ExecuteTime": {
     "end_time": "2022-01-10T23:26:03.499385Z",
     "start_time": "2022-01-10T23:26:03.484381Z"
    }
   },
   "outputs": [],
   "source": [
    "def sortedSquares(nums):\n",
    "    n = len(nums)\n",
    "    result = [0] * n\n",
    "    left = 0\n",
    "    right = n - 1\n",
    "    \n",
    "    for i in range(n):\n",
    "        if abs(nums[left]) < abs(nums[right]):\n",
    "            result[n - 1 - i] = nums[right]**2\n",
    "            right -= 1\n",
    "        else:\n",
    "            result[n - 1 - i] = nums[left]**2\n",
    "            left += 1\n",
    "    return result"
   ]
  },
  {
   "cell_type": "markdown",
   "id": "516d0002",
   "metadata": {},
   "source": [
    "# 189. Rotate Array\n",
    "___\n",
    "Given an array, rotate the array to the right by `k` steps, where `k` is non-negative."
   ]
  },
  {
   "cell_type": "code",
   "execution_count": 2,
   "id": "baad153f",
   "metadata": {
    "ExecuteTime": {
     "end_time": "2022-01-10T23:37:59.018429Z",
     "start_time": "2022-01-10T23:37:59.001434Z"
    }
   },
   "outputs": [],
   "source": [
    "def rotate(nums, k):\n",
    "    n = len(nums)\n",
    "    a = [0] * n\n",
    "    for i in range(n):\n",
    "        a[(i + k) % n] = nums[i]\n",
    "    nums[:] = a"
   ]
  },
  {
   "cell_type": "markdown",
   "id": "aff1c1bb",
   "metadata": {},
   "source": [
    ">Original List                   : 1 2 3 4 5 6 7\n",
    ">\n",
    ">After reversing all numbers     : 7 6 5 4 3 2 1\n",
    ">\n",
    ">After reversing first k numbers : 5 6 7 4 3 2 1\n",
    ">\n",
    ">After revering last n-k numbers : 5 6 7 1 2 3 4 --> Result"
   ]
  },
  {
   "cell_type": "code",
   "execution_count": 4,
   "id": "88508b7a",
   "metadata": {
    "ExecuteTime": {
     "end_time": "2022-01-10T23:45:43.195628Z",
     "start_time": "2022-01-10T23:45:43.180624Z"
    }
   },
   "outputs": [],
   "source": [
    "    def reverse(self, nums, start: int, end: int) -> None:\n",
    "        while start < end:\n",
    "            nums[start], nums[end] = nums[end], nums[start]\n",
    "            start, end = start + 1, end - 1\n",
    "            \n",
    "    def rotate(self, nums, k: int) -> None:\n",
    "        \"\"\"\n",
    "        Do not return anything, modify nums in-place instead.\n",
    "        \"\"\"\n",
    "        n = len(nums)\n",
    "        k %= n\n",
    "        \n",
    "        self.reverse(nums, 0, n - 1)\n",
    "        self.reverse(nums, 0, k - 1)\n",
    "        self.reverse(nums, k, n - 1)"
   ]
  },
  {
   "cell_type": "code",
   "execution_count": null,
   "id": "0af3f064",
   "metadata": {},
   "outputs": [],
   "source": []
  }
 ],
 "metadata": {
  "kernelspec": {
   "display_name": "Python 3",
   "language": "python",
   "name": "python3"
  },
  "language_info": {
   "codemirror_mode": {
    "name": "ipython",
    "version": 3
   },
   "file_extension": ".py",
   "mimetype": "text/x-python",
   "name": "python",
   "nbconvert_exporter": "python",
   "pygments_lexer": "ipython3",
   "version": "3.8.8"
  },
  "toc": {
   "base_numbering": 1,
   "nav_menu": {},
   "number_sections": true,
   "sideBar": true,
   "skip_h1_title": false,
   "title_cell": "Table of Contents",
   "title_sidebar": "Contents",
   "toc_cell": false,
   "toc_position": {},
   "toc_section_display": true,
   "toc_window_display": false
  },
  "varInspector": {
   "cols": {
    "lenName": 16,
    "lenType": 16,
    "lenVar": 40
   },
   "kernels_config": {
    "python": {
     "delete_cmd_postfix": "",
     "delete_cmd_prefix": "del ",
     "library": "var_list.py",
     "varRefreshCmd": "print(var_dic_list())"
    },
    "r": {
     "delete_cmd_postfix": ") ",
     "delete_cmd_prefix": "rm(",
     "library": "var_list.r",
     "varRefreshCmd": "cat(var_dic_list()) "
    }
   },
   "types_to_exclude": [
    "module",
    "function",
    "builtin_function_or_method",
    "instance",
    "_Feature"
   ],
   "window_display": false
  }
 },
 "nbformat": 4,
 "nbformat_minor": 5
}
