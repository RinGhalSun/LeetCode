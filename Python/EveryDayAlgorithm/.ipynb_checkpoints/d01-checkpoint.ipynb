{
 "cells": [
  {
   "cell_type": "markdown",
   "id": "82b1d442",
   "metadata": {},
   "source": [
    "# Day 01\n",
    "## 704. Binary Search\n",
    "___\n",
    "Given an array of integers `nums` which is sorted in ascending order, and an integer `target`, write a function to search `target` in `nums`. If `target` exist, then return its index. Otherwise, return `-1`."
   ]
  },
  {
   "cell_type": "code",
   "execution_count": 6,
   "id": "be7edb39",
   "metadata": {
    "ExecuteTime": {
     "end_time": "2022-01-09T21:46:20.065716Z",
     "start_time": "2022-01-09T21:46:20.058721Z"
    }
   },
   "outputs": [
    {
     "data": {
      "text/plain": [
       "4"
      ]
     },
     "execution_count": 6,
     "metadata": {},
     "output_type": "execute_result"
    }
   ],
   "source": [
    "nums = [-1,0,3,5,9,12]\n",
    "target = 9\n",
    "\n",
    "def binarySearch(nums, target):\n",
    "    left, right = 0, len(nums) - 1\n",
    "    while left <= right:\n",
    "        pivot = left + (right - left) // 2\n",
    "        if nums[pivot] == target:\n",
    "            return pivot\n",
    "        if nums[pivot] < target:\n",
    "            left = pivot + 1\n",
    "        if nums[pivot] > target:\n",
    "            right = pivot - 1\n",
    "    \n",
    "    return -1\n",
    "\n",
    "findTar1(nums, target)"
   ]
  },
  {
   "cell_type": "markdown",
   "id": "dbb7115e",
   "metadata": {},
   "source": [
    "## 278. First Bad Version\n",
    "___\n",
    "You are a product manager and currently leading a team to develop a new product. Unfortunately, the latest version of your product fails the quality check. Since each version is developed based on the previous version, all the versions after a bad version are also bad.\n",
    "\n",
    "Suppose you have `n` versions `[1,2,...,n]` and you want to find out the first bad one, which causes all the following ones to be bad.\n",
    "\n",
    "You are given an API `bool isBadVersion(version)` which returns whether `version` is bad. Implement a function to find the first bad version. Your should minimize the number of calls to the API.\n",
    "___\n",
    "> 等于就是在0000111111111111或者0001111或者011111或者1111111中找到第一个1"
   ]
  },
  {
   "cell_type": "code",
   "execution_count": 10,
   "id": "74f3b816",
   "metadata": {
    "ExecuteTime": {
     "end_time": "2022-01-09T22:06:55.036379Z",
     "start_time": "2022-01-09T22:06:55.031378Z"
    }
   },
   "outputs": [],
   "source": [
    "def firstBadVersion(n):\n",
    "    left, right = 1, n\n",
    "    while left <= right:\n",
    "        pivot = left + (right - left) // 2\n",
    "        if isBadVersion(pivot) == 1:\n",
    "            right = pivot\n",
    "        else:\n",
    "            left = pivot + 1\n",
    "        \n",
    "    return left\n",
    "            \n",
    "# return啥都一样,反正都会合到一个点上=.="
   ]
  },
  {
   "cell_type": "markdown",
   "id": "251625f5",
   "metadata": {},
   "source": [
    "## 35. Search Inset Position\n",
    "Given a sorted array of distinct integers and a target value, return the index if the target is found. If not, return the index where it would be if it were inserted in order.\n",
    "\n",
    "You must write an algorithm with `O(log n)` runtime complexity."
   ]
  },
  {
   "cell_type": "code",
   "execution_count": 13,
   "id": "649cb38f",
   "metadata": {
    "ExecuteTime": {
     "end_time": "2022-01-09T22:26:28.776369Z",
     "start_time": "2022-01-09T22:26:28.767367Z"
    }
   },
   "outputs": [
    {
     "data": {
      "text/plain": [
       "0"
      ]
     },
     "execution_count": 13,
     "metadata": {},
     "output_type": "execute_result"
    }
   ],
   "source": [
    "def insertPos(nums, target):\n",
    "    left, right = 0, len(nums) - 1\n",
    "    while left <= right:\n",
    "        pivot = (left + right) >> 1\n",
    "        if nums[pivot] == target:\n",
    "            return pivot\n",
    "        if nums[pivot] > target:\n",
    "            right = pivot - 1\n",
    "        else:\n",
    "            left = pivot + 1\n",
    "    return left\n",
    "# 这里必须return left,如果target小于数组最小值,right为-1\n",
    "\n",
    "nums = [1,3,5,6]\n",
    "target = 0\n",
    "\n",
    "insertPos(nums, target)"
   ]
  },
  {
   "cell_type": "code",
   "execution_count": null,
   "id": "7c3d2ccb",
   "metadata": {},
   "outputs": [],
   "source": []
  }
 ],
 "metadata": {
  "kernelspec": {
   "display_name": "Python 3",
   "language": "python",
   "name": "python3"
  },
  "language_info": {
   "codemirror_mode": {
    "name": "ipython",
    "version": 3
   },
   "file_extension": ".py",
   "mimetype": "text/x-python",
   "name": "python",
   "nbconvert_exporter": "python",
   "pygments_lexer": "ipython3",
   "version": "3.8.8"
  },
  "toc": {
   "base_numbering": 1,
   "nav_menu": {},
   "number_sections": true,
   "sideBar": true,
   "skip_h1_title": false,
   "title_cell": "Table of Contents",
   "title_sidebar": "Contents",
   "toc_cell": false,
   "toc_position": {},
   "toc_section_display": true,
   "toc_window_display": false
  },
  "varInspector": {
   "cols": {
    "lenName": 16,
    "lenType": 16,
    "lenVar": 40
   },
   "kernels_config": {
    "python": {
     "delete_cmd_postfix": "",
     "delete_cmd_prefix": "del ",
     "library": "var_list.py",
     "varRefreshCmd": "print(var_dic_list())"
    },
    "r": {
     "delete_cmd_postfix": ") ",
     "delete_cmd_prefix": "rm(",
     "library": "var_list.r",
     "varRefreshCmd": "cat(var_dic_list()) "
    }
   },
   "types_to_exclude": [
    "module",
    "function",
    "builtin_function_or_method",
    "instance",
    "_Feature"
   ],
   "window_display": false
  }
 },
 "nbformat": 4,
 "nbformat_minor": 5
}
