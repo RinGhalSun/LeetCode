{
 "cells": [
  {
   "cell_type": "markdown",
   "id": "0adc1fb9",
   "metadata": {},
   "source": [
    "# Two Sum\n",
    "Given an array of integers `nums` and an integer `target`, return *indices of the numbers such that they add up to `target`.*\n"
   ]
  },
  {
   "cell_type": "code",
   "execution_count": 17,
   "id": "d4690e17",
   "metadata": {
    "ExecuteTime": {
     "end_time": "2022-01-10T22:33:42.271867Z",
     "start_time": "2022-01-10T22:33:42.265866Z"
    }
   },
   "outputs": [],
   "source": [
    "def twoSum(nums, target):\n",
    "    hashmap = {}\n",
    "    \n",
    "    for i in range(len(nums)):\n",
    "        complement = target - nums[i]\n",
    "        if complement in hashmap:\n",
    "            return [hashmap[complement], i]\n",
    "        hashmap[nums[i]] = i"
   ]
  },
  {
   "cell_type": "markdown",
   "id": "3a6c577b",
   "metadata": {},
   "source": [
    "## Comment\n",
    "可以用for循环嵌套做,也可以用hashtable. 注意在这个set字典中,**`nums[i]`**才是键,**`i`**作为返回值则是内容\n",
    "\n",
    "hashmap[nums[i]] = i 则是添加新的字典,nums[i]为键"
   ]
  },
  {
   "cell_type": "markdown",
   "id": "352b86e5",
   "metadata": {},
   "source": [
    "# Merge Sorted Array\n",
    "You are given two integer arrays `nums1` and `nums2`, sorted in **non-decreasing order**, and two integer `m` nad `n`, representing the number of elements in `nums1` and `nums2` respectively.\n",
    "\n",
    "**Merge** `nums1` and `nums2` into a single array sorted in **non-decreasing order**."
   ]
  },
  {
   "cell_type": "code",
   "execution_count": 18,
   "id": "aa4bf436",
   "metadata": {
    "ExecuteTime": {
     "end_time": "2022-01-10T23:03:03.990225Z",
     "start_time": "2022-01-10T23:03:03.985223Z"
    }
   },
   "outputs": [],
   "source": [
    "def merge(nums1, m, nums2, n):\n",
    "    m1 = m - 1\n",
    "    n1 = n - 1\n",
    "    for i in range(m + n - 1, -1, -1):\n",
    "        if (n1 < 0):\n",
    "            break\n",
    "        if nums1[m1] > nums2[n1] and m1 >= 0:\n",
    "            nums1[i] = nums1[m1]\n",
    "            m1 -= 1\n",
    "        else:\n",
    "            nums1[i] = nums2[n1]\n",
    "            n1 -= 1"
   ]
  },
  {
   "cell_type": "code",
   "execution_count": null,
   "id": "66aa972f",
   "metadata": {},
   "outputs": [],
   "source": []
  }
 ],
 "metadata": {
  "kernelspec": {
   "display_name": "Python 3",
   "language": "python",
   "name": "python3"
  },
  "language_info": {
   "codemirror_mode": {
    "name": "ipython",
    "version": 3
   },
   "file_extension": ".py",
   "mimetype": "text/x-python",
   "name": "python",
   "nbconvert_exporter": "python",
   "pygments_lexer": "ipython3",
   "version": "3.8.8"
  },
  "toc": {
   "base_numbering": 1,
   "nav_menu": {},
   "number_sections": true,
   "sideBar": true,
   "skip_h1_title": false,
   "title_cell": "Table of Contents",
   "title_sidebar": "Contents",
   "toc_cell": false,
   "toc_position": {},
   "toc_section_display": true,
   "toc_window_display": false
  },
  "varInspector": {
   "cols": {
    "lenName": 16,
    "lenType": 16,
    "lenVar": 40
   },
   "kernels_config": {
    "python": {
     "delete_cmd_postfix": "",
     "delete_cmd_prefix": "del ",
     "library": "var_list.py",
     "varRefreshCmd": "print(var_dic_list())"
    },
    "r": {
     "delete_cmd_postfix": ") ",
     "delete_cmd_prefix": "rm(",
     "library": "var_list.r",
     "varRefreshCmd": "cat(var_dic_list()) "
    }
   },
   "types_to_exclude": [
    "module",
    "function",
    "builtin_function_or_method",
    "instance",
    "_Feature"
   ],
   "window_display": false
  }
 },
 "nbformat": 4,
 "nbformat_minor": 5
}
