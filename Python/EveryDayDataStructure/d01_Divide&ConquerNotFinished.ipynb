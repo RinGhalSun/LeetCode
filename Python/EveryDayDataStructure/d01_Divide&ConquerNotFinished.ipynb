{
 "cells": [
  {
   "cell_type": "markdown",
   "id": "ae7663c9",
   "metadata": {},
   "source": [
    "# Day 01\n",
    "## 217. Contains Duplicate\n",
    "Given an integer array `nums`, return `true` if any value appears **at least twice** in the array, and return `false` if every element is distinct."
   ]
  },
  {
   "cell_type": "code",
   "execution_count": 4,
   "id": "e1aa2e6f",
   "metadata": {
    "ExecuteTime": {
     "end_time": "2022-01-09T20:41:31.185215Z",
     "start_time": "2022-01-09T20:41:31.173213Z"
    }
   },
   "outputs": [
    {
     "name": "stdout",
     "output_type": "stream",
     "text": [
      "True\n",
      "False\n",
      "--------\n",
      "True\n",
      "False\n"
     ]
    }
   ],
   "source": [
    "nums1 = [1,2,3,4,1]\n",
    "nums2 = [1,2,3,4,5]\n",
    "def containDup1(nums):\n",
    "    return len(nums) != len(set(nums))\n",
    "\n",
    "def containDup2(nums):\n",
    "    nums.sort()\n",
    "    for i in range(len(nums) - 1):\n",
    "        if nums[i] == nums[i + 1]:\n",
    "            return True\n",
    "    return False\n",
    "print(containDup1(nums1))\n",
    "print(containDup1(nums2))\n",
    "\n",
    "print(\"--------\")\n",
    "print(containDup2(nums1))\n",
    "print(containDup2(nums2))"
   ]
  },
  {
   "cell_type": "markdown",
   "id": "1c6ff8ba",
   "metadata": {},
   "source": [
    "### Algorithm\n",
    "containDup1 O(nlogn), O(1)\n",
    "containDup2 O(n), O(n)"
   ]
  },
  {
   "cell_type": "markdown",
   "id": "c45d326b",
   "metadata": {},
   "source": [
    "## 53. Maximum Subarray\n",
    "Given an integer array `nums`, find the contiguous (连续的) subarray (containing at least one number) which has the largest sum and return *its sum*.\n",
    "\n",
    "A **subarray** is a **contiguous** part of an array."
   ]
  },
  {
   "cell_type": "markdown",
   "id": "55397b85",
   "metadata": {},
   "source": [
    "### Approach 1 Dynamic Programming, Kadane's Algorithm"
   ]
  },
  {
   "cell_type": "code",
   "execution_count": 11,
   "id": "5352e7a7",
   "metadata": {
    "ExecuteTime": {
     "end_time": "2022-01-09T21:05:19.375035Z",
     "start_time": "2022-01-09T21:05:19.364033Z"
    }
   },
   "outputs": [
    {
     "name": "stdout",
     "output_type": "stream",
     "text": [
      "6\n"
     ]
    }
   ],
   "source": [
    "nums = [-2,1,-3,4,-1,2,1,-5,4]\n",
    "\n",
    "def maxSub1(nums):\n",
    "    currSub = nums[0]\n",
    "    maxSub = nums[0]\n",
    "    for num in nums[1:]:\n",
    "        currSub = max(num, currSub + num)\n",
    "        maxSub = max(currSub, maxSub)\n",
    "    return maxSub\n",
    "    \n",
    "    \n",
    "print(maxSub1(nums))"
   ]
  },
  {
   "cell_type": "markdown",
   "id": "4f735106",
   "metadata": {},
   "source": [
    "### Approach 2: Divide and Conquer (Advanced)"
   ]
  }
 ],
 "metadata": {
  "kernelspec": {
   "display_name": "Python 3",
   "language": "python",
   "name": "python3"
  },
  "language_info": {
   "codemirror_mode": {
    "name": "ipython",
    "version": 3
   },
   "file_extension": ".py",
   "mimetype": "text/x-python",
   "name": "python",
   "nbconvert_exporter": "python",
   "pygments_lexer": "ipython3",
   "version": "3.8.8"
  },
  "toc": {
   "base_numbering": 1,
   "nav_menu": {},
   "number_sections": true,
   "sideBar": true,
   "skip_h1_title": false,
   "title_cell": "Table of Contents",
   "title_sidebar": "Contents",
   "toc_cell": false,
   "toc_position": {},
   "toc_section_display": true,
   "toc_window_display": false
  },
  "varInspector": {
   "cols": {
    "lenName": 16,
    "lenType": 16,
    "lenVar": 40
   },
   "kernels_config": {
    "python": {
     "delete_cmd_postfix": "",
     "delete_cmd_prefix": "del ",
     "library": "var_list.py",
     "varRefreshCmd": "print(var_dic_list())"
    },
    "r": {
     "delete_cmd_postfix": ") ",
     "delete_cmd_prefix": "rm(",
     "library": "var_list.r",
     "varRefreshCmd": "cat(var_dic_list()) "
    }
   },
   "types_to_exclude": [
    "module",
    "function",
    "builtin_function_or_method",
    "instance",
    "_Feature"
   ],
   "window_display": false
  }
 },
 "nbformat": 4,
 "nbformat_minor": 5
}
